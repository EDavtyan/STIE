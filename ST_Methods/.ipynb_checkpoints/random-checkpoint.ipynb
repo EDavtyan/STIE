{
 "cells": [
  {
   "cell_type": "code",
   "execution_count": 15,
   "metadata": {
    "collapsed": true
   },
   "outputs": [
    {
     "ename": "ModuleNotFoundError",
     "evalue": "No module named 'matplotlib'",
     "output_type": "error",
     "traceback": [
      "\u001B[0;31m---------------------------------------------------------------------------\u001B[0m",
      "\u001B[0;31mModuleNotFoundError\u001B[0m                       Traceback (most recent call last)",
      "Cell \u001B[0;32mIn[15], line 2\u001B[0m\n\u001B[1;32m      1\u001B[0m \u001B[38;5;66;03m# import OBF\u001B[39;00m\n\u001B[0;32m----> 2\u001B[0m \u001B[38;5;28;01mimport\u001B[39;00m \u001B[38;5;21;01mMaxSPRT\u001B[39;00m\n\u001B[1;32m      3\u001B[0m \u001B[38;5;66;03m# import NonParametricTests\u001B[39;00m\n",
      "File \u001B[0;32m~/Documents/Projects/ai-past/ST_Methods/MaxSPRT.py:1\u001B[0m\n\u001B[0;32m----> 1\u001B[0m \u001B[38;5;28;01mimport\u001B[39;00m \u001B[38;5;21;01mmatplotlib\u001B[39;00m\u001B[38;5;21;01m.\u001B[39;00m\u001B[38;5;21;01mpyplot\u001B[39;00m \u001B[38;5;28;01mas\u001B[39;00m \u001B[38;5;21;01mplt\u001B[39;00m\n\u001B[1;32m      2\u001B[0m \u001B[38;5;28;01mimport\u001B[39;00m \u001B[38;5;21;01mplotly\u001B[39;00m\u001B[38;5;21;01m.\u001B[39;00m\u001B[38;5;21;01mgraph_objects\u001B[39;00m \u001B[38;5;28;01mas\u001B[39;00m \u001B[38;5;21;01mgo\u001B[39;00m\n\u001B[1;32m      3\u001B[0m \u001B[38;5;28;01mimport\u001B[39;00m \u001B[38;5;21;01mnumpy\u001B[39;00m \u001B[38;5;28;01mas\u001B[39;00m \u001B[38;5;21;01mnp\u001B[39;00m\n",
      "\u001B[0;31mModuleNotFoundError\u001B[0m: No module named 'matplotlib'"
     ]
    }
   ],
   "source": [
    "# import OBF\n",
    "import MaxSPRT\n",
    "# import NonParametricTests"
   ]
  },
  {
   "cell_type": "code",
   "execution_count": 11,
   "outputs": [],
   "source": [
    "import os\n",
    "import s3fs\n",
    "from pyspark.sql import SparkSession\n",
    "\n",
    "from pyspark.sql.functions import *\n",
    "from pyspark.sql.window import *\n",
    "#\n",
    "spark = SparkSession.builder.getOrCreate()\n",
    "s3 = s3fs.S3FileSystem(anon=False)\n",
    "\n",
    "\n",
    "# s3 = s3fs.S3FileSystem(anon=False, key=keyring.get_password('aws_key', 'edgar.davtyan'),\n",
    "#                        secret=keyring.get_password('aws_secret', 'edgar.davtyan'))"
   ],
   "metadata": {
    "collapsed": false
   }
  },
  {
   "cell_type": "code",
   "execution_count": 3,
   "outputs": [],
   "source": [
    "class WriteReader:\n",
    "    def __init__(self, base_path):\n",
    "        self.base_path = base_path\n",
    "\n",
    "    def write_and_read(self, df, name):\n",
    "        path = os.path.join(self.base_path, name)\n",
    "        df.write.mode(\"Overwrite\").format(\"parquet\").save(path)\n",
    "        df = spark.read.format(\"parquet\").load(path)\n",
    "        return df\n",
    "\n",
    "    def read(self, name):\n",
    "        path = os.path.join(self.base_path, name)\n",
    "        df = spark.read.format(\"parquet\").load(path)\n",
    "        return df\n",
    "\n",
    "def ls(path):\n",
    "    display(dbutils.fs.ls(path))\n",
    "def rm(path):\n",
    "    dbutils.fs.rm(path, True)\n",
    "\n",
    "path = \"s3://pa-ai-datascience-storage-dev/users/ub/edgar.davtyan/Tasks/Research on AI Gen/Interleaving/PackageScripts/TestData/\"\n",
    "\n",
    "write_reader_parquet = WriteReader(path)\n",
    "write_reader_delta   = WriteReader(path)\n",
    "\n",
    "wr = write_reader_parquet.write_and_read\n",
    "rr = write_reader_parquet.read"
   ],
   "metadata": {
    "collapsed": false
   }
  },
  {
   "cell_type": "code",
   "execution_count": 4,
   "outputs": [
    {
     "name": "stderr",
     "output_type": "stream",
     "text": [
      "[Stage 5:>                                                          (0 + 1) / 1]\r"
     ]
    }
   ],
   "source": [
    "ai_apply_click = rr(\"sample_data_apply_click_aa\").select(\"device_id\", \"sid\", \"keyword\", \"time_hours\", col(\"photo_id\").alias(\"item_id\"))\n",
    "sid=[\"sid\", \"keyword\"]\n",
    "grouping=\"time_hours\""
   ],
   "metadata": {
    "collapsed": false
   }
  },
  {
   "cell_type": "code",
   "execution_count": 5,
   "outputs": [
    {
     "ename": "NameError",
     "evalue": "name 'MaxSPRT' is not defined",
     "output_type": "error",
     "traceback": [
      "\u001B[0;31m---------------------------------------------------------------------------\u001B[0m",
      "\u001B[0;31mNameError\u001B[0m                                 Traceback (most recent call last)",
      "Cell \u001B[0;32mIn[5], line 1\u001B[0m\n\u001B[0;32m----> 1\u001B[0m MaxSPRT_tester \u001B[38;5;241m=\u001B[39m \u001B[43mMaxSPRT\u001B[49m\u001B[38;5;241m.\u001B[39mMaxSPRT(sid, grouping)\n",
      "\u001B[0;31mNameError\u001B[0m: name 'MaxSPRT' is not defined"
     ]
    }
   ],
   "source": [
    "MaxSPRT_tester = MaxSPRT.MaxSPRT(sid, grouping)"
   ],
   "metadata": {
    "collapsed": false
   }
  },
  {
   "cell_type": "code",
   "execution_count": null,
   "outputs": [],
   "source": [
    "MaxSPRT_tester.calculate_threshold(event=ai_apply_click,\n",
    "                                   num_experiments=2)"
   ],
   "metadata": {
    "collapsed": false
   }
  }
 ],
 "metadata": {
  "kernelspec": {
   "display_name": "Python 3",
   "language": "python",
   "name": "python3"
  },
  "language_info": {
   "codemirror_mode": {
    "name": "ipython",
    "version": 2
   },
   "file_extension": ".py",
   "mimetype": "text/x-python",
   "name": "python",
   "nbconvert_exporter": "python",
   "pygments_lexer": "ipython2",
   "version": "2.7.6"
  }
 },
 "nbformat": 4,
 "nbformat_minor": 0
}
