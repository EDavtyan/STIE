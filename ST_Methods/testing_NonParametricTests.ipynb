{
 "cells": [
  {
   "cell_type": "code",
   "execution_count": 103,
   "outputs": [
    {
     "name": "stdout",
     "output_type": "stream",
     "text": [
      "Requirement already satisfied: matplotlib==3.7.2 in /Users/eddavtyan/Documents/Projects/ai-past/ai-past_db_con_venv_adhoc/lib/python3.9/site-packages (3.7.2)\r\n",
      "Requirement already satisfied: contourpy>=1.0.1 in /Users/eddavtyan/Documents/Projects/ai-past/ai-past_db_con_venv_adhoc/lib/python3.9/site-packages (from matplotlib==3.7.2) (1.1.1)\r\n",
      "Requirement already satisfied: cycler>=0.10 in /Users/eddavtyan/Documents/Projects/ai-past/ai-past_db_con_venv_adhoc/lib/python3.9/site-packages (from matplotlib==3.7.2) (0.12.0)\r\n",
      "Requirement already satisfied: fonttools>=4.22.0 in /Users/eddavtyan/Documents/Projects/ai-past/ai-past_db_con_venv_adhoc/lib/python3.9/site-packages (from matplotlib==3.7.2) (4.43.0)\r\n",
      "Requirement already satisfied: kiwisolver>=1.0.1 in /Users/eddavtyan/Documents/Projects/ai-past/ai-past_db_con_venv_adhoc/lib/python3.9/site-packages (from matplotlib==3.7.2) (1.4.5)\r\n",
      "Requirement already satisfied: numpy>=1.20 in /Users/eddavtyan/Documents/Projects/ai-past/ai-past_db_con_venv_adhoc/lib/python3.9/site-packages (from matplotlib==3.7.2) (1.25.2)\r\n",
      "Requirement already satisfied: packaging>=20.0 in /Users/eddavtyan/Documents/Projects/ai-past/ai-past_db_con_venv_adhoc/lib/python3.9/site-packages (from matplotlib==3.7.2) (23.2)\r\n",
      "Requirement already satisfied: pillow>=6.2.0 in /Users/eddavtyan/Documents/Projects/ai-past/ai-past_db_con_venv_adhoc/lib/python3.9/site-packages (from matplotlib==3.7.2) (10.0.1)\r\n",
      "Requirement already satisfied: pyparsing<3.1,>=2.3.1 in /Users/eddavtyan/Documents/Projects/ai-past/ai-past_db_con_venv_adhoc/lib/python3.9/site-packages (from matplotlib==3.7.2) (3.0.9)\r\n",
      "Requirement already satisfied: python-dateutil>=2.7 in /Users/eddavtyan/Documents/Projects/ai-past/ai-past_db_con_venv_adhoc/lib/python3.9/site-packages (from matplotlib==3.7.2) (2.8.2)\r\n",
      "Requirement already satisfied: importlib-resources>=3.2.0 in /Users/eddavtyan/Documents/Projects/ai-past/ai-past_db_con_venv_adhoc/lib/python3.9/site-packages (from matplotlib==3.7.2) (6.1.0)\r\n",
      "Requirement already satisfied: zipp>=3.1.0 in /Users/eddavtyan/Documents/Projects/ai-past/ai-past_db_con_venv_adhoc/lib/python3.9/site-packages (from importlib-resources>=3.2.0->matplotlib==3.7.2) (3.17.0)\r\n",
      "Requirement already satisfied: six>=1.5 in /Users/eddavtyan/Documents/Projects/ai-past/ai-past_db_con_venv_adhoc/lib/python3.9/site-packages (from python-dateutil>=2.7->matplotlib==3.7.2) (1.16.0)\r\n",
      "Requirement already satisfied: tqdm in /Users/eddavtyan/Documents/Projects/ai-past/ai-past_db_con_venv_adhoc/lib/python3.9/site-packages (4.66.1)\r\n",
      "Requirement already satisfied: plotly in /Users/eddavtyan/Documents/Projects/ai-past/ai-past_db_con_venv_adhoc/lib/python3.9/site-packages (5.16.1)\r\n",
      "Requirement already satisfied: tenacity>=6.2.0 in /Users/eddavtyan/Documents/Projects/ai-past/ai-past_db_con_venv_adhoc/lib/python3.9/site-packages (from plotly) (8.2.3)\r\n",
      "Requirement already satisfied: packaging in /Users/eddavtyan/Documents/Projects/ai-past/ai-past_db_con_venv_adhoc/lib/python3.9/site-packages (from plotly) (23.2)\r\n",
      "Requirement already satisfied: pandas==1.3.4 in /Users/eddavtyan/Documents/Projects/ai-past/ai-past_db_con_venv_adhoc/lib/python3.9/site-packages (1.3.4)\r\n",
      "Requirement already satisfied: python-dateutil>=2.7.3 in /Users/eddavtyan/Documents/Projects/ai-past/ai-past_db_con_venv_adhoc/lib/python3.9/site-packages (from pandas==1.3.4) (2.8.2)\r\n",
      "Requirement already satisfied: pytz>=2017.3 in /Users/eddavtyan/Documents/Projects/ai-past/ai-past_db_con_venv_adhoc/lib/python3.9/site-packages (from pandas==1.3.4) (2023.3.post1)\r\n",
      "Requirement already satisfied: numpy>=1.17.3 in /Users/eddavtyan/Documents/Projects/ai-past/ai-past_db_con_venv_adhoc/lib/python3.9/site-packages (from pandas==1.3.4) (1.25.2)\r\n",
      "Requirement already satisfied: six>=1.5 in /Users/eddavtyan/Documents/Projects/ai-past/ai-past_db_con_venv_adhoc/lib/python3.9/site-packages (from python-dateutil>=2.7.3->pandas==1.3.4) (1.16.0)\r\n",
      "Requirement already satisfied: pyarrow in /Users/eddavtyan/Documents/Projects/ai-past/ai-past_db_con_venv_adhoc/lib/python3.9/site-packages (13.0.0)\r\n",
      "Requirement already satisfied: numpy>=1.16.6 in /Users/eddavtyan/Documents/Projects/ai-past/ai-past_db_con_venv_adhoc/lib/python3.9/site-packages (from pyarrow) (1.25.2)\r\n"
     ]
    }
   ],
   "source": [
    "!pip3 install matplotlib==3.7.2\n",
    "!pip3 install tqdm\n",
    "!pip3 install plotly\n",
    "!pip3 install pandas==1.3.4\n",
    "!pip3 install pyarrow"
   ],
   "metadata": {
    "collapsed": false
   }
  },
  {
   "cell_type": "code",
   "execution_count": 104,
   "outputs": [],
   "source": [
    "from non_parametric_tests import NonParametricTests"
   ],
   "metadata": {
    "collapsed": false
   }
  },
  {
   "cell_type": "code",
   "execution_count": 105,
   "outputs": [],
   "source": [
    "import os\n",
    "import s3fs\n",
    "from pyspark.sql import SparkSession\n",
    "\n",
    "from pyspark.sql.functions import *\n",
    "from pyspark.sql.window import *\n",
    "\n",
    "spark = SparkSession.builder.getOrCreate()\n",
    "s3 = s3fs.S3FileSystem(anon=False)"
   ],
   "metadata": {
    "collapsed": false
   }
  },
  {
   "cell_type": "code",
   "execution_count": 106,
   "outputs": [],
   "source": [
    "class WriteReader:\n",
    "    def __init__(self, base_path):\n",
    "        self.base_path = base_path\n",
    "\n",
    "    def write_and_read(self, df, name):\n",
    "        path = os.path.join(self.base_path, name)\n",
    "        df.write.mode(\"Overwrite\").format(\"parquet\").save(path)\n",
    "        df = spark.read.format(\"parquet\").load(path)\n",
    "        return df\n",
    "\n",
    "    def read(self, name):\n",
    "        path = os.path.join(self.base_path, name)\n",
    "        df = spark.read.format(\"parquet\").load(path)\n",
    "        return df\n",
    "\n",
    "def ls(path):\n",
    "    display(dbutils.fs.ls(path))\n",
    "def rm(path):\n",
    "    dbutils.fs.rm(path, True)\n",
    "\n",
    "path = \"s3://pa-ai-datascience-storage-dev/users/ub/edgar.davtyan/Tasks/Research on AI Gen/Interleaving/PackageScripts/TestData/\"\n",
    "\n",
    "write_reader_parquet = WriteReader(path)\n",
    "write_reader_delta   = WriteReader(path)\n",
    "\n",
    "wr = write_reader_parquet.write_and_read\n",
    "rr = write_reader_parquet.read"
   ],
   "metadata": {
    "collapsed": false
   }
  },
  {
   "cell_type": "code",
   "execution_count": 107,
   "outputs": [
    {
     "name": "stderr",
     "output_type": "stream",
     "text": [
      "[Stage 53:>                                                         (0 + 1) / 1]\r"
     ]
    }
   ],
   "source": [
    "ai_apply_click_aa = rr(\"sample_data_apply_click_aa\").select(\"sid\", \"keyword\", \"time_hours\", \"photo_id\")\n",
    "ai_apply_click = rr(\"sample_data_apply_click\")\n",
    "sid=[\"sid\", \"keyword\"]\n",
    "grouping=\"time_hours\""
   ],
   "metadata": {
    "collapsed": false
   }
  },
  {
   "cell_type": "code",
   "execution_count": 108,
   "outputs": [],
   "source": [
    "NonParametricTests_tester = NonParametricTests(sid_columns=sid,\n",
    "                         grouping_column=grouping,\n",
    "                         treatment_variant=\"stable_diffusion_v22\",\n",
    "                         control_variant=\"stable_diffusion_v21\",\n",
    "                         item_id_column=\"photo_id\",\n",
    "                         variant_column=\"sd_version\")"
   ],
   "metadata": {
    "collapsed": false
   }
  },
  {
   "cell_type": "code",
   "execution_count": 109,
   "outputs": [],
   "source": [
    "spark.conf.set(\"spark.sql.execution.arrow.pyspark.enabled\", \"true\")"
   ],
   "metadata": {
    "collapsed": false
   }
  },
  {
   "cell_type": "code",
   "execution_count": 110,
   "outputs": [
    {
     "name": "stderr",
     "output_type": "stream",
     "text": [
      "[Stage 55:==============>                                           (2 + 6) / 8]\r"
     ]
    },
    {
     "name": "stdout",
     "output_type": "stream",
     "text": [
      "View job details at https://picsart-dev.cloud.databricks.com/?o=0#/setting/clusters/0219-083901-krfv8a0u/sparkUi\n"
     ]
    },
    {
     "name": "stderr",
     "output_type": "stream",
     "text": [
      "                                                                                \r"
     ]
    },
    {
     "name": "stdout",
     "output_type": "stream",
     "text": [
      "View job details at https://picsart-dev.cloud.databricks.com/?o=0#/setting/clusters/0219-083901-krfv8a0u/sparkUi\n",
      "23/10/12 16:56:22 WARN SparkServiceRPCClient: Large server response (4239759 bytes compressed)\n"
     ]
    }
   ],
   "source": [
    "NonParametricTests_tester.transform(ai_apply_click)"
   ],
   "metadata": {
    "collapsed": false
   }
  },
  {
   "cell_type": "code",
   "execution_count": 111,
   "outputs": [
    {
     "data": {
      "text/plain": "((16962, 1), (14336, 1))"
     },
     "execution_count": 111,
     "metadata": {},
     "output_type": "execute_result"
    }
   ],
   "source": [
    "NonParametricTests_tester.tr_data.shape, NonParametricTests_tester.ctr_data.shape"
   ],
   "metadata": {
    "collapsed": false
   }
  },
  {
   "cell_type": "code",
   "execution_count": 112,
   "outputs": [],
   "source": [
    "results_permutation = NonParametricTests_tester.run_test(test_type='permutation', n_resamples=10**3)"
   ],
   "metadata": {
    "collapsed": false
   }
  },
  {
   "cell_type": "code",
   "execution_count": 113,
   "outputs": [
    {
     "data": {
      "text/plain": "{'null_distribution': array([[-2.71036519e-03],\n        [ 3.59641385e-03],\n        [ 1.02221832e-03],\n        [-5.02714116e-03],\n        [-1.16584787e-03],\n        [ 6.42802892e-03],\n        [ 4.62609206e-03],\n        [ 9.00222444e-03],\n        [ 1.79447698e-03],\n        [-3.61133362e-03],\n        [ 1.15092810e-03],\n        [-1.03042420e-02],\n        [ 4.11125295e-03],\n        [ 1.79447698e-03],\n        [-6.51008767e-04],\n        [-1.93810653e-03],\n        [-7.98746601e-03],\n        [ 5.78448004e-03],\n        [ 1.53705743e-03],\n        [ 1.92318676e-03],\n        [ 2.82415519e-03],\n        [ 3.59641385e-03],\n        [-9.27456377e-03],\n        [-3.74004340e-03],\n        [-3.35391407e-03],\n        [ 6.55673870e-03],\n        [ 7.71512668e-03],\n        [-3.09649451e-03],\n        [-1.36169663e-04],\n        [-6.51008767e-04],\n        [ 9.90319288e-03],\n        [-4.12617272e-03],\n        [-1.08190811e-02],\n        [ 2.69544541e-03],\n        [-5.41327049e-03],\n        [-9.91811265e-03],\n        [ 4.49738228e-03],\n        [ 1.66576720e-03],\n        [ 6.36088994e-04],\n        [-1.13339202e-02],\n        [ 5.91318982e-03],\n        [-1.80939675e-03],\n        [ 1.02221832e-03],\n        [ 5.39835071e-03],\n        [-4.51230205e-03],\n        [ 5.78448004e-03],\n        [ 3.85383340e-03],\n        [ 3.85383340e-03],\n        [-1.55197720e-03],\n        [-2.64879439e-04],\n        [ 1.92318676e-03],\n        [ 2.95286496e-03],\n        [-6.57165847e-03],\n        [ 3.21028452e-03],\n        [-2.06681631e-03],\n        [-3.22520429e-03],\n        [-9.01714422e-03],\n        [-6.51008767e-04],\n        [-4.25488250e-03],\n        [ 9.77448310e-03],\n        [ 7.32899735e-03],\n        [ 9.13093422e-03],\n        [ 3.59641385e-03],\n        [ 7.07157780e-03],\n        [ 2.30931608e-03],\n        [ 4.88351161e-03],\n        [ 4.49738228e-03],\n        [ 8.10125601e-03],\n        [ 5.26964094e-03],\n        [-7.73004646e-03],\n        [ 6.68544847e-03],\n        [ 5.07379218e-04],\n        [ 3.98254317e-03],\n        [ 5.39835071e-03],\n        [ 5.78448004e-03],\n        [-2.71036519e-03],\n        [ 5.14093116e-03],\n        [-3.99746295e-03],\n        [-3.99746295e-03],\n        [-1.19774691e-02],\n        [-7.79718544e-04],\n        [-4.89843138e-03],\n        [-1.16584787e-03],\n        [ 3.46770407e-03],\n        [ 2.49959666e-04],\n        [-1.55197720e-03],\n        [-4.25488250e-03],\n        [ 5.39835071e-03],\n        [-2.06681631e-03],\n        [ 1.27963787e-03],\n        [ 6.94286803e-03],\n        [ 4.75480183e-03],\n        [ 2.30931608e-03],\n        [ 2.30931608e-03],\n        [ 6.36088994e-04],\n        [ 6.42802892e-03],\n        [-9.40327355e-03],\n        [ 7.97254624e-03],\n        [ 3.08157474e-03],\n        [-1.68068698e-03],\n        [ 3.46770407e-03],\n        [-6.70036825e-03],\n        [ 8.87351467e-03],\n        [-7.73004646e-03],\n        [-2.83907496e-03],\n        [ 7.07157780e-03],\n        [ 5.14093116e-03],\n        [-3.61133362e-03],\n        [-2.06681631e-03],\n        [-4.89843138e-03],\n        [-2.83907496e-03],\n        [-1.68068698e-03],\n        [ 1.15092810e-03],\n        [-1.68068698e-03],\n        [-8.24488556e-03],\n        [-7.08649758e-03],\n        [-1.68068698e-03],\n        [ 8.35867556e-03],\n        [-2.58165541e-03],\n        [-3.35391407e-03],\n        [ 4.88351161e-03],\n        [-5.67069004e-03],\n        [-5.41327049e-03],\n        [ 1.66576720e-03],\n        [ 4.88351161e-03],\n        [-2.83907496e-03],\n        [-1.30071473e-02],\n        [-2.06681631e-03],\n        [ 5.78448004e-03],\n        [ 2.56673564e-03],\n        [-6.82907802e-03],\n        [-2.06681631e-03],\n        [-4.76972160e-03],\n        [ 5.52706049e-03],\n        [-9.08428320e-04],\n        [ 9.38835377e-03],\n        [ 1.15092810e-03],\n        [ 8.93508546e-04],\n        [-1.80939675e-03],\n        [ 9.90319288e-03],\n        [ 3.98254317e-03],\n        [-2.58165541e-03],\n        [-7.34391713e-03],\n        [-9.01714422e-03],\n        [ 8.61609512e-03],\n        [-1.80939675e-03],\n        [ 5.78448004e-03],\n        [ 2.69544541e-03],\n        [ 3.78669442e-04],\n        [ 8.74480489e-03],\n        [-4.12617272e-03],\n        [-1.16584787e-03],\n        [-2.32423586e-03],\n        [ 1.40834765e-03],\n        [-1.93810653e-03],\n        [ 1.15092810e-03],\n        [-1.31358571e-02],\n        [ 1.79447698e-03],\n        [ 6.17060937e-03],\n        [-1.80939675e-03],\n        [-6.31423892e-03],\n        [ 6.68544847e-03],\n        [-2.45294563e-03],\n        [-4.51230205e-03],\n        [-3.48262384e-03],\n        [ 4.75480183e-03],\n        [-3.35391407e-03],\n        [-9.01714422e-03],\n        [ 8.93508546e-04],\n        [ 1.60812621e-02],\n        [ 1.40834765e-03],\n        [-9.08428320e-04],\n        [-5.92810959e-03],\n        [ 8.74480489e-03],\n        [ 1.21249889e-04],\n        [-4.89843138e-03],\n        [ 2.18060631e-03],\n        [ 4.62609206e-03],\n        [ 5.91318982e-03],\n        [-4.89843138e-03],\n        [ 7.84383646e-03],\n        [-2.32423586e-03],\n        [ 3.59641385e-03],\n        [ 3.78669442e-04],\n        [-2.06681631e-03],\n        [-1.42326742e-03],\n        [ 1.66576720e-03],\n        [ 5.14093116e-03],\n        [-3.74004340e-03],\n        [ 6.17060937e-03],\n        [-6.57165847e-03],\n        [-4.76972160e-03],\n        [-1.03713810e-03],\n        [-5.67069004e-03],\n        [-6.95778780e-03],\n        [ 2.30931608e-03],\n        [ 1.79447698e-03],\n        [ 7.07157780e-03],\n        [-2.71036519e-03],\n        [ 7.64798770e-04],\n        [ 4.62609206e-03],\n        [-5.67069004e-03],\n        [ 1.32496471e-02],\n        [-9.53198332e-03],\n        [-1.68068698e-03],\n        [-7.73004646e-03],\n        [ 1.24773884e-02],\n        [ 5.26964094e-03],\n        [ 2.05189653e-03],\n        [ 6.42802892e-03],\n        [ 1.15092810e-03],\n        [-1.36169663e-04],\n        [-1.42326742e-03],\n        [ 7.84383646e-03],\n        [-6.57165847e-03],\n        [ 7.64798770e-04],\n        [ 2.18060631e-03],\n        [-6.51008767e-04],\n        [-9.01714422e-03],\n        [ 4.49738228e-03],\n        [-6.95778780e-03],\n        [ 7.64798770e-04],\n        [-3.99746295e-03],\n        [ 5.65577026e-03],\n        [-6.31423892e-03],\n        [-9.08428320e-04],\n        [-1.29455765e-03],\n        [ 3.46770407e-03],\n        [-6.70036825e-03],\n        [-9.14585399e-03],\n        [-1.42326742e-03],\n        [-6.44294869e-03],\n        [ 7.20028758e-03],\n        [ 5.52706049e-03],\n        [ 6.36088994e-04],\n        [-7.45988670e-06],\n        [-2.32423586e-03],\n        [-1.00468224e-02],\n        [-3.99746295e-03],\n        [ 1.66576720e-03],\n        [-2.32423586e-03],\n        [ 2.05189653e-03],\n        [-4.64101183e-03],\n        [ 2.82415519e-03],\n        [-4.76972160e-03],\n        [-1.80939675e-03],\n        [-5.79939981e-03],\n        [-6.95778780e-03],\n        [ 9.25964400e-03],\n        [ 1.79447698e-03],\n        [ 1.21249889e-04],\n        [ 5.26964094e-03],\n        [ 4.23996273e-03],\n        [-1.62248917e-02],\n        [ 7.64798770e-04],\n        [-4.12617272e-03],\n        [ 3.21028452e-03],\n        [ 5.52706049e-03],\n        [-3.61133362e-03],\n        [-7.85875623e-03],\n        [-7.79718544e-04],\n        [-6.51008767e-04],\n        [-9.53198332e-03],\n        [-3.86875317e-03],\n        [ 3.72512362e-03],\n        [ 5.65577026e-03],\n        [-1.15913397e-02],\n        [-5.22298991e-04],\n        [-2.96778474e-03],\n        [-1.29455765e-03],\n        [-6.95778780e-03],\n        [ 1.66576720e-03],\n        [-4.64101183e-03],\n        [-2.19552608e-03],\n        [-4.12617272e-03],\n        [-6.31423892e-03],\n        [-7.85875623e-03],\n        [-1.36169663e-04],\n        [ 3.72512362e-03],\n        [ 3.78669442e-04],\n        [ 1.04180320e-02],\n        [ 8.93508546e-04],\n        [ 7.07157780e-03],\n        [-2.71036519e-03],\n        [-4.25488250e-03],\n        [-7.60133668e-03],\n        [ 5.78448004e-03],\n        [ 7.97254624e-03],\n        [-3.74004340e-03],\n        [ 1.06754515e-02],\n        [-7.45988670e-06],\n        [-1.36169663e-04],\n        [ 4.49738228e-03],\n        [-2.06681631e-03],\n        [-4.25488250e-03],\n        [-6.57165847e-03],\n        [ 1.21249889e-04],\n        [-2.64879439e-04],\n        [-1.42326742e-03],\n        [-7.79718544e-04],\n        [ 5.52706049e-03],\n        [-4.76972160e-03],\n        [ 1.01606124e-02],\n        [-6.51008767e-04],\n        [ 1.21249889e-04],\n        [ 2.43802586e-03],\n        [ 5.39835071e-03],\n        [-1.55197720e-03],\n        [-4.51230205e-03],\n        [-1.21061788e-02],\n        [-7.45988670e-06],\n        [-1.93810653e-03],\n        [-1.42326742e-03],\n        [-3.93589215e-04],\n        [-1.09477909e-02],\n        [ 3.85383340e-03],\n        [-5.15585093e-03],\n        [ 6.68544847e-03],\n        [-7.73004646e-03],\n        [ 3.46770407e-03],\n        [-9.40327355e-03],\n        [-3.74004340e-03],\n        [-5.92810959e-03],\n        [-3.22520429e-03],\n        [-1.55197720e-03],\n        [-3.86875317e-03],\n        [-3.74004340e-03],\n        [ 9.25964400e-03],\n        [-5.67069004e-03],\n        [-7.79718544e-04],\n        [-3.86875317e-03],\n        [-3.09649451e-03],\n        [-1.80939675e-03],\n        [-7.08649758e-03],\n        [-2.71036519e-03],\n        [ 7.71512668e-03],\n        [ 1.17051297e-02],\n        [-5.22298991e-04],\n        [ 7.64798770e-04],\n        [ 1.40834765e-03],\n        [ 3.72512362e-03],\n        [ 1.66576720e-03],\n        [ 7.71512668e-03],\n        [-7.60133668e-03],\n        [ 9.38835377e-03],\n        [ 2.56673564e-03],\n        [-5.67069004e-03],\n        [ 3.33899429e-03],\n        [-1.93810653e-03],\n        [ 2.95286496e-03],\n        [ 2.43802586e-03],\n        [-4.12617272e-03],\n        [-2.06681631e-03],\n        [ 3.59641385e-03],\n        [ 6.55673870e-03],\n        [ 1.21249889e-04],\n        [-1.03713810e-03],\n        [-2.83907496e-03],\n        [-5.67069004e-03],\n        [-9.53198332e-03],\n        [-7.21520735e-03],\n        [-9.14585399e-03],\n        [ 1.53705743e-03],\n        [-9.53198332e-03],\n        [-1.42326742e-03],\n        [ 2.05189653e-03],\n        [-6.18552914e-03],\n        [-7.45988670e-06],\n        [-8.24488556e-03],\n        [ 7.07157780e-03],\n        [-9.08428320e-04],\n        [-4.51230205e-03],\n        [ 1.15092810e-03],\n        [ 8.48738534e-03],\n        [-1.29455765e-03],\n        [ 7.64798770e-04],\n        [-1.93810653e-03],\n        [ 4.88351161e-03],\n        [ 2.05189653e-03],\n        [ 1.21249889e-04],\n        [ 1.40834765e-03],\n        [-5.15585093e-03],\n        [-3.22520429e-03],\n        [-5.28456071e-03],\n        [-1.28784375e-02],\n        [-8.37359534e-03],\n        [ 2.05189653e-03],\n        [ 5.39835071e-03],\n        [ 1.79447698e-03],\n        [-2.83907496e-03],\n        [ 4.75480183e-03],\n        [ 2.82415519e-03],\n        [ 7.07157780e-03],\n        [ 3.78669442e-04],\n        [-1.36169663e-04],\n        [-1.36169663e-04],\n        [-3.48262384e-03],\n        [ 5.14093116e-03],\n        [-9.78940287e-03],\n        [ 9.51706355e-03],\n        [-5.28456071e-03],\n        [ 7.71512668e-03],\n        [ 6.36088994e-04],\n        [-7.21520735e-03],\n        [ 5.01222138e-03],\n        [-5.92810959e-03],\n        [-1.29455765e-03],\n        [ 3.33899429e-03],\n        [ 3.21028452e-03],\n        [ 3.46770407e-03],\n        [-6.05681937e-03],\n        [-7.85875623e-03],\n        [ 4.49738228e-03],\n        [ 1.21249889e-04],\n        [ 6.04189959e-03],\n        [-2.71036519e-03],\n        [-7.45988670e-06],\n        [ 5.91318982e-03],\n        [ 4.36867250e-03],\n        [-2.71036519e-03],\n        [ 2.95286496e-03],\n        [ 6.55673870e-03],\n        [ 3.59641385e-03],\n        [-7.34391713e-03],\n        [-7.79718544e-04],\n        [ 6.55673870e-03],\n        [-7.73004646e-03],\n        [-4.64101183e-03],\n        [ 6.29931915e-03],\n        [ 7.71512668e-03],\n        [ 5.14093116e-03],\n        [ 1.27963787e-03],\n        [-2.96778474e-03],\n        [-7.45988670e-06],\n        [ 6.68544847e-03],\n        [-1.55197720e-03],\n        [-3.48262384e-03],\n        [-1.16584787e-03],\n        [-4.89843138e-03],\n        [-3.99746295e-03],\n        [-5.67069004e-03],\n        [ 3.98254317e-03],\n        [-2.58165541e-03],\n        [ 1.02221832e-03],\n        [-6.05681937e-03],\n        [-7.60133668e-03],\n        [-3.48262384e-03],\n        [-4.51230205e-03],\n        [ 1.00319027e-02],\n        [ 6.81415825e-03],\n        [-1.93810653e-03],\n        [ 1.15092810e-03],\n        [-5.41327049e-03],\n        [ 2.95286496e-03],\n        [ 6.17060937e-03],\n        [-4.76972160e-03],\n        [-2.06681631e-03],\n        [ 4.62609206e-03],\n        [-1.55197720e-03],\n        [-6.44294869e-03],\n        [ 8.93508546e-04],\n        [-5.15585093e-03],\n        [-4.89843138e-03],\n        [-1.26210180e-02],\n        [ 7.84383646e-03],\n        [-7.98746601e-03],\n        [-8.63101489e-03],\n        [ 6.17060937e-03],\n        [ 4.23996273e-03],\n        [-6.31423892e-03],\n        [ 1.21249889e-04],\n        [ 1.17051297e-02],\n        [-7.08649758e-03],\n        [-3.22520429e-03],\n        [-6.05681937e-03],\n        [-1.42326742e-03],\n        [ 9.64577333e-03],\n        [ 1.66576720e-03],\n        [ 3.21028452e-03],\n        [ 3.46770407e-03],\n        [-5.67069004e-03],\n        [-1.45516646e-02],\n        [ 6.81415825e-03],\n        [-1.42326742e-03],\n        [-4.89843138e-03],\n        [ 3.78669442e-04],\n        [-7.79718544e-04],\n        [ 6.94286803e-03],\n        [ 8.48738534e-03],\n        [-2.19552608e-03],\n        [ 3.78669442e-04],\n        [-3.35391407e-03],\n        [ 4.75480183e-03],\n        [ 6.55673870e-03],\n        [-5.79939981e-03],\n        [-1.82842481e-02],\n        [ 5.39835071e-03],\n        [-6.70036825e-03],\n        [-7.45988670e-06],\n        [-4.64101183e-03],\n        [-1.04329518e-02],\n        [ 1.15092810e-03],\n        [ 1.53705743e-03],\n        [ 7.71512668e-03],\n        [-6.57165847e-03],\n        [ 4.62609206e-03],\n        [-2.83907496e-03],\n        [-1.42326742e-03],\n        [ 4.49738228e-03],\n        [ 5.01222138e-03],\n        [-5.02714116e-03],\n        [ 2.30931608e-03],\n        [ 8.93508546e-04],\n        [ 7.32899735e-03],\n        [-2.45294563e-03],\n        [ 2.30931608e-03],\n        [ 3.33899429e-03],\n        [ 9.64577333e-03],\n        [-1.42326742e-03],\n        [-1.16584787e-03],\n        [-1.09477909e-02],\n        [ 8.48738534e-03],\n        [ 1.04180320e-02],\n        [ 3.78669442e-04],\n        [ 5.52706049e-03],\n        [-6.31423892e-03],\n        [ 3.72512362e-03],\n        [ 2.30931608e-03],\n        [-7.73004646e-03],\n        [ 6.04189959e-03],\n        [-3.93589215e-04],\n        [ 2.95286496e-03],\n        [-4.76972160e-03],\n        [ 8.48738534e-03],\n        [ 6.94286803e-03],\n        [-1.16584787e-03],\n        [-6.95778780e-03],\n        [-3.93589215e-04],\n        [ 5.07379218e-04],\n        [ 3.46770407e-03],\n        [-1.16584787e-03],\n        [ 2.43802586e-03],\n        [-8.11617578e-03],\n        [-4.76972160e-03],\n        [-1.16584787e-03],\n        [-5.28456071e-03],\n        [ 1.02221832e-03],\n        [ 3.08157474e-03],\n        [-3.22520429e-03],\n        [-6.70036825e-03],\n        [-6.51008767e-04],\n        [ 3.46770407e-03],\n        [-1.15913397e-02],\n        [-5.22298991e-04],\n        [-6.05681937e-03],\n        [ 4.49738228e-03],\n        [-4.89843138e-03],\n        [-3.35391407e-03],\n        [-3.61133362e-03],\n        [ 9.77448310e-03],\n        [ 6.17060937e-03],\n        [-5.15585093e-03],\n        [-2.19552608e-03],\n        [ 3.98254317e-03],\n        [ 7.64798770e-04],\n        [-1.55197720e-03],\n        [ 5.26964094e-03],\n        [ 1.45367448e-02],\n        [ 1.92318676e-03],\n        [ 5.07379218e-04],\n        [ 8.35867556e-03],\n        [ 8.87351467e-03],\n        [-1.29455765e-03],\n        [ 8.61609512e-03],\n        [ 8.93508546e-04],\n        [-1.55197720e-03],\n        [ 1.27963787e-03],\n        [ 5.07379218e-04],\n        [ 1.09328711e-02],\n        [ 3.21028452e-03],\n        [ 5.07379218e-04],\n        [-3.86875317e-03],\n        [-5.28456071e-03],\n        [-2.71036519e-03],\n        [ 9.77448310e-03],\n        [ 1.02221832e-03],\n        [-5.54198026e-03],\n        [-2.96778474e-03],\n        [ 3.85383340e-03],\n        [ 3.08157474e-03],\n        [-7.45988670e-06],\n        [ 2.82415519e-03],\n        [ 1.79447698e-03],\n        [-5.22298991e-04],\n        [ 1.02221832e-03],\n        [-2.32423586e-03],\n        [ 4.11125295e-03],\n        [ 4.36867250e-03],\n        [-1.93810653e-03],\n        [ 5.26964094e-03],\n        [ 2.05189653e-03],\n        [-6.44294869e-03],\n        [-1.35219864e-02],\n        [ 1.37644862e-02],\n        [ 3.08157474e-03],\n        [-6.57165847e-03],\n        [ 1.66576720e-03],\n        [-7.45988670e-06],\n        [-1.00468224e-02],\n        [-1.28784375e-02],\n        [-5.02714116e-03],\n        [ 2.43802586e-03],\n        [ 7.20028758e-03],\n        [-2.71036519e-03],\n        [ 1.04180320e-02],\n        [-5.22298991e-04],\n        [-5.22298991e-04],\n        [ 3.33899429e-03],\n        [-1.21061788e-02],\n        [-6.82907802e-03],\n        [-1.35219864e-02],\n        [-5.02714116e-03],\n        [ 1.27963787e-03],\n        [-3.86875317e-03],\n        [ 5.65577026e-03],\n        [-6.05681937e-03],\n        [ 3.59641385e-03],\n        [-1.36169663e-04],\n        [ 4.11125295e-03],\n        [-1.06903713e-02],\n        [-5.92810959e-03],\n        [ 7.32899735e-03],\n        [ 1.27963787e-03],\n        [ 1.05467418e-02],\n        [-3.22520429e-03],\n        [ 7.20028758e-03],\n        [ 1.05467418e-02],\n        [-1.06903713e-02],\n        [-3.61133362e-03],\n        [ 3.46770407e-03],\n        [ 3.98254317e-03],\n        [ 7.84383646e-03],\n        [-3.86875317e-03],\n        [ 3.78669442e-04],\n        [-3.48262384e-03],\n        [-1.68068698e-03],\n        [ 3.21028452e-03],\n        [ 3.59641385e-03],\n        [-3.35391407e-03],\n        [-1.68068698e-03],\n        [ 2.05189653e-03],\n        [ 1.40834765e-03],\n        [ 5.91318982e-03],\n        [-7.73004646e-03],\n        [ 5.65577026e-03],\n        [ 5.14093116e-03],\n        [-1.42326742e-03],\n        [-4.76972160e-03],\n        [ 6.17060937e-03],\n        [-4.76972160e-03],\n        [ 1.92318676e-03],\n        [-5.28456071e-03],\n        [-8.75972467e-03],\n        [ 3.72512362e-03],\n        [-1.80939675e-03],\n        [-1.42326742e-03],\n        [-7.21520735e-03],\n        [ 1.66576720e-03],\n        [ 2.56673564e-03],\n        [-1.04329518e-02],\n        [ 2.82415519e-03],\n        [-2.96778474e-03],\n        [ 5.91318982e-03],\n        [ 3.46770407e-03],\n        [-5.02714116e-03],\n        [ 1.01606124e-02],\n        [-9.53198332e-03],\n        [ 1.04180320e-02],\n        [ 3.08157474e-03],\n        [-2.71036519e-03],\n        [-1.68068698e-03],\n        [ 3.08157474e-03],\n        [-4.51230205e-03],\n        [ 4.88351161e-03],\n        [ 1.15092810e-03],\n        [ 2.18060631e-03],\n        [-2.83907496e-03],\n        [-3.99746295e-03],\n        [-9.66069310e-03],\n        [-6.57165847e-03],\n        [ 1.35070666e-02],\n        [ 1.02221832e-03],\n        [-5.41327049e-03],\n        [-1.15913397e-02],\n        [-1.68068698e-03],\n        [ 7.45770713e-03],\n        [-3.22520429e-03],\n        [-4.38359228e-03],\n        [ 5.14093116e-03],\n        [ 2.18060631e-03],\n        [ 6.36088994e-04],\n        [-8.75972467e-03],\n        [ 5.01222138e-03],\n        [ 5.65577026e-03],\n        [-1.55197720e-03],\n        [-2.45294563e-03],\n        [ 5.07379218e-04],\n        [-3.99746295e-03],\n        [-1.03713810e-03],\n        [ 3.08157474e-03],\n        [ 9.77448310e-03],\n        [-3.74004340e-03],\n        [ 4.11125295e-03],\n        [ 5.91318982e-03],\n        [-4.38359228e-03],\n        [ 4.23996273e-03],\n        [-6.51008767e-04],\n        [ 1.37644862e-02],\n        [ 9.25964400e-03],\n        [ 4.88351161e-03],\n        [ 5.07379218e-04],\n        [-1.16584787e-03],\n        [-1.03042420e-02],\n        [-4.64101183e-03],\n        [-6.51008767e-04],\n        [ 1.53705743e-03],\n        [-7.45988670e-06],\n        [-1.24923082e-02],\n        [ 8.10125601e-03],\n        [-5.02714116e-03],\n        [-1.36169663e-04],\n        [-1.29455765e-03],\n        [-1.57100526e-02],\n        [-1.00468224e-02],\n        [-6.44294869e-03],\n        [ 6.36088994e-04],\n        [-3.86875317e-03],\n        [ 3.85383340e-03],\n        [ 2.18060631e-03],\n        [ 3.78669442e-04],\n        [ 3.72512362e-03],\n        [ 1.19625493e-02],\n        [ 6.17060937e-03],\n        [-1.29455765e-03],\n        [ 2.49959666e-04],\n        [ 6.42802892e-03],\n        [ 8.22996579e-03],\n        [ 6.17060937e-03],\n        [-7.08649758e-03],\n        [ 5.01222138e-03],\n        [-6.44294869e-03],\n        [-3.61133362e-03],\n        [ 8.93508546e-04],\n        [ 5.78448004e-03],\n        [-3.93589215e-04],\n        [ 5.26964094e-03],\n        [-1.93810653e-03],\n        [-1.46803744e-02],\n        [-7.60133668e-03],\n        [-6.95778780e-03],\n        [ 4.36867250e-03],\n        [-5.54198026e-03],\n        [-7.85875623e-03],\n        [ 1.27963787e-03],\n        [ 8.93508546e-04],\n        [ 4.75480183e-03],\n        [-6.18552914e-03],\n        [-3.93589215e-04],\n        [-1.03713810e-03],\n        [-2.06681631e-03],\n        [-2.32423586e-03],\n        [-6.51008767e-04],\n        [ 3.72512362e-03],\n        [-1.42326742e-03],\n        [ 3.33899429e-03],\n        [ 6.81415825e-03],\n        [-3.35391407e-03],\n        [-1.01755322e-02],\n        [-8.37359534e-03],\n        [-4.12617272e-03],\n        [ 1.79447698e-03],\n        [ 4.75480183e-03],\n        [ 3.21028452e-03],\n        [-7.45988670e-06],\n        [ 1.15092810e-03],\n        [ 3.78669442e-04],\n        [-1.87990872e-02],\n        [ 2.69544541e-03],\n        [ 1.53705743e-03],\n        [ 4.62609206e-03],\n        [ 5.91318982e-03],\n        [-6.05681937e-03],\n        [ 1.53705743e-03],\n        [ 2.49959666e-04],\n        [-1.55197720e-03],\n        [ 1.35070666e-02],\n        [ 2.18060631e-03],\n        [-2.06681631e-03],\n        [-8.24488556e-03],\n        [ 2.05189653e-03],\n        [ 5.07379218e-04],\n        [ 5.01222138e-03],\n        [ 5.01222138e-03],\n        [-4.12617272e-03],\n        [ 1.15092810e-03],\n        [-3.74004340e-03],\n        [ 6.42802892e-03],\n        [ 5.07379218e-04],\n        [ 5.07379218e-04],\n        [ 1.66576720e-03],\n        [ 1.02221832e-03],\n        [-7.21520735e-03],\n        [-3.35391407e-03],\n        [-4.51230205e-03],\n        [-7.98746601e-03],\n        [-1.03713810e-03],\n        [ 9.51706355e-03],\n        [-1.19774691e-02],\n        [-1.42326742e-03],\n        [ 6.04189959e-03],\n        [ 3.72512362e-03],\n        [-1.12052104e-02],\n        [-6.44294869e-03],\n        [ 6.29931915e-03],\n        [ 7.20028758e-03],\n        [ 2.95286496e-03],\n        [-1.29455765e-03],\n        [-3.48262384e-03],\n        [-2.83907496e-03],\n        [-3.74004340e-03],\n        [-3.48262384e-03],\n        [-2.64879439e-04],\n        [-4.25488250e-03],\n        [ 2.56673564e-03],\n        [ 1.13190004e-02],\n        [ 9.51706355e-03],\n        [-1.80939675e-03],\n        [-7.21520735e-03],\n        [-7.79718544e-04],\n        [ 8.48738534e-03],\n        [ 1.79447698e-03],\n        [ 1.27963787e-03],\n        [-5.67069004e-03],\n        [-1.68068698e-03],\n        [-3.48262384e-03],\n        [-4.64101183e-03],\n        [-5.28456071e-03],\n        [-1.55197720e-03],\n        [ 2.18060631e-03],\n        [ 6.04189959e-03],\n        [ 5.39835071e-03],\n        [-2.19552608e-03],\n        [-2.71036519e-03],\n        [-1.93810653e-03],\n        [-1.36169663e-04],\n        [ 4.49738228e-03],\n        [-1.68068698e-03],\n        [-9.08428320e-04],\n        [ 3.72512362e-03],\n        [ 1.40834765e-03],\n        [ 3.78669442e-04],\n        [-3.61133362e-03],\n        [ 2.69544541e-03],\n        [ 3.98254317e-03],\n        [ 5.01222138e-03],\n        [-1.15913397e-02],\n        [-9.08428320e-04],\n        [-7.79718544e-04],\n        [-2.19552608e-03],\n        [ 1.92318676e-03],\n        [ 3.78669442e-04],\n        [-1.80939675e-03],\n        [-2.19552608e-03],\n        [ 2.95286496e-03],\n        [-2.64879439e-04],\n        [ 2.69544541e-03],\n        [-1.42326742e-03],\n        [ 6.29931915e-03],\n        [ 2.82415519e-03],\n        [ 3.08157474e-03],\n        [ 5.91318982e-03],\n        [ 4.75480183e-03],\n        [-1.68068698e-03],\n        [ 5.78448004e-03],\n        [-1.21061788e-02],\n        [-5.15585093e-03],\n        [-2.58165541e-03],\n        [-9.08428320e-04],\n        [ 1.79447698e-03],\n        [-1.00468224e-02],\n        [-1.16584787e-03],\n        [-8.24488556e-03],\n        [ 5.07379218e-04],\n        [-3.93589215e-04],\n        [ 5.07379218e-04],\n        [ 1.47941644e-02],\n        [-3.86875317e-03],\n        [-5.41327049e-03],\n        [-5.67069004e-03],\n        [ 2.49959666e-04],\n        [-2.06681631e-03],\n        [-6.95778780e-03],\n        [ 7.32899735e-03],\n        [-7.34391713e-03],\n        [-6.70036825e-03],\n        [-9.27456377e-03],\n        [-7.47262690e-03],\n        [-4.76972160e-03],\n        [ 8.22996579e-03],\n        [ 4.49738228e-03],\n        [ 6.29931915e-03],\n        [-6.31423892e-03],\n        [-9.53198332e-03],\n        [ 6.94286803e-03],\n        [ 5.07379218e-04],\n        [ 3.21028452e-03],\n        [ 4.62609206e-03],\n        [ 2.56673564e-03],\n        [ 1.05467418e-02],\n        [ 7.84383646e-03],\n        [-1.55197720e-03],\n        [-3.22520429e-03],\n        [-2.19552608e-03],\n        [ 1.66576720e-03],\n        [ 2.43802586e-03],\n        [ 7.97254624e-03],\n        [ 1.02221832e-03],\n        [-1.80939675e-03],\n        [-1.68068698e-03],\n        [ 8.35867556e-03],\n        [-4.51230205e-03],\n        [-1.05616615e-02],\n        [-3.22520429e-03],\n        [-7.47262690e-03],\n        [ 7.58641691e-03],\n        [-9.27456377e-03],\n        [-4.64101183e-03],\n        [ 1.27963787e-03],\n        [-4.76972160e-03],\n        [-3.48262384e-03],\n        [ 4.36867250e-03],\n        [ 3.08157474e-03],\n        [ 1.33783568e-02],\n        [-6.51008767e-04],\n        [-2.71036519e-03],\n        [-8.50230511e-03],\n        [ 4.62609206e-03],\n        [ 1.53705743e-03],\n        [ 6.68544847e-03],\n        [ 1.27963787e-03],\n        [-6.70036825e-03],\n        [-2.83907496e-03],\n        [ 1.92318676e-03],\n        [ 7.71512668e-03],\n        [ 1.79447698e-03],\n        [-2.71036519e-03],\n        [-5.41327049e-03],\n        [ 2.56673564e-03],\n        [ 4.11125295e-03],\n        [ 2.05189653e-03],\n        [ 6.42802892e-03],\n        [-5.54198026e-03],\n        [-6.31423892e-03],\n        [ 1.37644862e-02],\n        [ 4.75480183e-03],\n        [-1.14626300e-02],\n        [-3.48262384e-03],\n        [-4.76972160e-03],\n        [ 1.27963787e-03],\n        [-5.15585093e-03],\n        [-7.08649758e-03],\n        [-7.60133668e-03],\n        [-2.83907496e-03],\n        [ 1.79447698e-03],\n        [-9.66069310e-03],\n        [-7.21520735e-03],\n        [-2.45294563e-03],\n        [ 3.33899429e-03],\n        [ 8.87351467e-03],\n        [ 8.93508546e-04],\n        [-9.40327355e-03],\n        [-5.67069004e-03],\n        [ 2.82415519e-03],\n        [-6.82907802e-03],\n        [ 1.66576720e-03],\n        [-5.67069004e-03],\n        [ 2.05189653e-03],\n        [ 6.36088994e-04],\n        [ 4.88351161e-03],\n        [-2.58165541e-03],\n        [-3.93589215e-04],\n        [ 1.21249889e-04],\n        [-6.05681937e-03],\n        [-1.05616615e-02],\n        [-1.62248917e-02],\n        [ 1.15092810e-03],\n        [-5.92810959e-03],\n        [-7.60133668e-03],\n        [-1.93810653e-03],\n        [-2.45294563e-03]]),\n 'pvalue': array([0.001998]),\n 'statistic': array([0.02817998]),\n 'within_ci': False,\n 'confidence_interval': (-0.01133713793312413, 0.010160612429885418)}"
     },
     "execution_count": 113,
     "metadata": {},
     "output_type": "execute_result"
    }
   ],
   "source": [
    "results_permutation"
   ],
   "metadata": {
    "collapsed": false
   }
  },
  {
   "cell_type": "code",
   "execution_count": 32,
   "outputs": [
    {
     "data": {
      "text/plain": "<Figure size 1200x800 with 1 Axes>",
      "image/png": "[encoded data removed]"
     },
     "metadata": {},
     "output_type": "display_data"
    }
   ],
   "source": [
    "NonParametricTests_tester.visualize(results_permutation, test_type='permutation')"
   ],
   "metadata": {
    "collapsed": false
   }
  },
  {
   "cell_type": "code",
   "execution_count": 39,
   "outputs": [],
   "source": [
    "results_bootstrap = NonParametricTests_tester.run_test(test_type='bootstrap', n_resamples=10**1)"
   ],
   "metadata": {
    "collapsed": false
   }
  },
  {
   "cell_type": "code",
   "execution_count": 40,
   "outputs": [
    {
     "data": {
      "text/plain": "{'bootstrap_distribution': array([[0.02014246, 0.03071218, 0.03548492, 0.03585089, 0.02830373,\n         0.03138749, 0.03460235, 0.02949452, 0.01591112, 0.02918046]]),\n 'confidence_interval': ConfidenceInterval(low=array([0.01591631]), high=array([0.03103818])),\n 'standard_error': array([0.00649298]),\n 'statistic': 0.028179981092189443}"
     },
     "execution_count": 40,
     "metadata": {},
     "output_type": "execute_result"
    }
   ],
   "source": [
    "results_bootstrap"
   ],
   "metadata": {
    "collapsed": false
   }
  },
  {
   "cell_type": "code",
   "execution_count": 41,
   "outputs": [
    {
     "data": {
      "text/plain": "<Figure size 1200x800 with 1 Axes>",
      "image/png": "[encoded data removed]"
     },
     "metadata": {},
     "output_type": "display_data"
    }
   ],
   "source": [
    "NonParametricTests_tester.visualize(results_bootstrap, test_type='bootstrap')"
   ],
   "metadata": {
    "collapsed": false
   }
  },
  {
   "cell_type": "code",
   "execution_count": null,
   "outputs": [],
   "source": [
    " # results_bootstrap[\"bootstrap_distribution\"] = results_bootstrap[\"bootstrap_distribution\"][0]"
   ],
   "metadata": {
    "collapsed": false
   }
  },
  {
   "cell_type": "markdown",
   "source": [
    "Testing test functions"
   ],
   "metadata": {
    "collapsed": false
   }
  },
  {
   "cell_type": "code",
   "execution_count": 136,
   "outputs": [],
   "source": [
    "# Fixing the random seed for reproducibility\n",
    "np.random.seed(42)\n",
    "# Parameters\n",
    "start_time = pd.Timestamp(\"2023-06-05 06:00:00\")\n",
    "end_time = pd.Timestamp(\"2023-06-05 23:00:00\")\n",
    "mean_rows_per_hour = 1150\n",
    "stddev_rows_per_hour = 240\n",
    "unique_sids = 2000  # Number of unique sid_1 and sid_2 identifiers\n",
    "p_A = 0.45  # Probability of selecting variant A\n",
    "\n",
    "# Generate consecutive hours\n",
    "hours = pd.date_range(start=start_time, end=end_time, freq='H')\n",
    "\n",
    "# Generate unique sid_1 and sid_2 identifiers\n",
    "sid_1 = np.random.randint(100, 1000, size=unique_sids)\n",
    "sid_2 = np.random.randint(1000, 2000, size=unique_sids)\n",
    "\n",
    "# Initialize DataFrame\n",
    "simulated_data = pd.DataFrame(columns=['hours', 'sid_1', 'sid_2', 'item_id', 'variant'])\n",
    "\n",
    "# Start item_id from a 15-digit number\n",
    "item_id_start = 10 ** 14\n",
    "\n",
    "# Generate data for each hour\n",
    "for hour in hours:\n",
    "    # Generate number of rows for the current hour using a normal distribution\n",
    "    num_rows = int(np.random.normal(loc=mean_rows_per_hour, scale=stddev_rows_per_hour))\n",
    "\n",
    "    # Create DataFrame for the current hour\n",
    "    current_data = pd.DataFrame({\n",
    "        'hours': [hour] * num_rows,\n",
    "        'sid_1': np.random.choice(sid_1, num_rows),\n",
    "        'sid_2': np.random.choice(sid_2, num_rows),\n",
    "        'item_id': np.arange(item_id_start, item_id_start + num_rows),\n",
    "        'variant': np.random.choice(['A', 'B'], num_rows, p=[p_A, 1 - p_A])\n",
    "    })\n",
    "\n",
    "    # Append to the main DataFrame\n",
    "    simulated_data = pd.concat([simulated_data, current_data], ignore_index=True)\n",
    "\n",
    "    # Update item_id_start for uniqueness in the next iteration\n",
    "    item_id_start += num_rows\n",
    "\n",
    "# Convert the Pandas DataFrame to a Spark DataFrame\n",
    "simulated_data_spark = spark.createDataFrame(simulated_data)"
   ],
   "metadata": {
    "collapsed": false
   }
  },
  {
   "cell_type": "code",
   "execution_count": 135,
   "outputs": [
    {
     "name": "stdout",
     "output_type": "stream",
     "text": [
      "View job details at https://picsart-dev.cloud.databricks.com/?o=0#/setting/clusters/0219-083901-krfv8a0u/sparkUi\n",
      "+-------+-------------------+-----+\n",
      "|variant|              hours|count|\n",
      "+-------+-------------------+-----+\n",
      "|      A|2023-06-05 06:00:00|  563|\n",
      "|      B|2023-06-05 06:00:00|  365|\n",
      "|      A|2023-06-05 07:00:00|  773|\n",
      "|      B|2023-06-05 07:00:00|  497|\n",
      "|      A|2023-06-05 08:00:00|  986|\n",
      "|      B|2023-06-05 08:00:00|  592|\n",
      "|      A|2023-06-05 09:00:00|  671|\n",
      "|      B|2023-06-05 09:00:00|  482|\n",
      "|      A|2023-06-05 10:00:00|  676|\n",
      "|      B|2023-06-05 10:00:00|  426|\n",
      "|      A|2023-06-05 11:00:00|  706|\n",
      "|      B|2023-06-05 11:00:00|  459|\n",
      "|      A|2023-06-05 12:00:00|  603|\n",
      "|      B|2023-06-05 12:00:00|  400|\n",
      "|      A|2023-06-05 13:00:00|  691|\n",
      "|      B|2023-06-05 13:00:00|  484|\n",
      "|      A|2023-06-05 14:00:00|  880|\n",
      "|      B|2023-06-05 14:00:00|  596|\n",
      "|      A|2023-06-05 15:00:00|  597|\n",
      "|      B|2023-06-05 15:00:00|  426|\n",
      "+-------+-------------------+-----+\n",
      "only showing top 20 rows\n",
      "\n"
     ]
    }
   ],
   "source": [
    "simulated_data_spark.groupby(\"variant\", \"hours\").count().orderBy(\"hours\", \"variant\").show()"
   ],
   "metadata": {
    "collapsed": false
   }
  },
  {
   "cell_type": "code",
   "execution_count": 137,
   "outputs": [
    {
     "name": "stdout",
     "output_type": "stream",
     "text": [
      "View job details at https://picsart-dev.cloud.databricks.com/?o=0#/setting/clusters/0219-083901-krfv8a0u/sparkUi\n"
     ]
    },
    {
     "name": "stderr",
     "output_type": "stream",
     "text": [
      "                                                                                \r"
     ]
    },
    {
     "name": "stdout",
     "output_type": "stream",
     "text": [
      "View job details at https://picsart-dev.cloud.databricks.com/?o=0#/setting/clusters/0219-083901-krfv8a0u/sparkUi\n"
     ]
    }
   ],
   "source": [
    "tester = NonParametricTests(\n",
    "        sid_columns=['sid_1', 'sid_2'],\n",
    "        grouping_column='hours',\n",
    "        treatment_variant='A',\n",
    "        control_variant='B'\n",
    "    )\n",
    "\n",
    "# Perform the transform method\n",
    "tester.transform(simulated_data_spark)"
   ],
   "metadata": {
    "collapsed": false
   }
  },
  {
   "cell_type": "code",
   "execution_count": 138,
   "outputs": [],
   "source": [
    "result = tester.run_test(test_type='permutation')"
   ],
   "metadata": {
    "collapsed": false
   }
  },
  {
   "cell_type": "code",
   "execution_count": 144,
   "outputs": [
    {
     "data": {
      "text/plain": "True"
     },
     "execution_count": 144,
     "metadata": {},
     "output_type": "execute_result"
    }
   ],
   "source": [
    "isinstance(result['within_ci'], np.bool_)"
   ],
   "metadata": {
    "collapsed": false
   }
  },
  {
   "cell_type": "code",
   "execution_count": 141,
   "outputs": [
    {
     "data": {
      "text/plain": "numpy.bool_"
     },
     "execution_count": 141,
     "metadata": {},
     "output_type": "execute_result"
    }
   ],
   "source": [
    "type(result['within_ci'])"
   ],
   "metadata": {
    "collapsed": false
   }
  },
  {
   "cell_type": "code",
   "execution_count": 145,
   "outputs": [],
   "source": [
    "result = tester.run_test(test_type='bootstrap')"
   ],
   "metadata": {
    "collapsed": false
   }
  },
  {
   "cell_type": "code",
   "execution_count": 146,
   "outputs": [
    {
     "data": {
      "text/plain": "{'bootstrap_distribution': array([[-0.00258011, -0.00274723,  0.00183998, ..., -0.00100141,\n          0.00074429, -0.00174427]]),\n 'confidence_interval': ConfidenceInterval(low=array([-0.0038395]), high=array([0.0024566])),\n 'standard_error': array([0.00161049]),\n 'statistic': -0.000722917894033781}"
     },
     "execution_count": 146,
     "metadata": {},
     "output_type": "execute_result"
    }
   ],
   "source": [
    "result"
   ],
   "metadata": {
    "collapsed": false
   }
  },
  {
   "cell_type": "code",
   "execution_count": null,
   "outputs": [],
   "source": [],
   "metadata": {
    "collapsed": false
   }
  }
 ],
 "metadata": {
  "kernelspec": {
   "display_name": "Python 3",
   "language": "python",
   "name": "python3"
  },
  "language_info": {
   "codemirror_mode": {
    "name": "ipython",
    "version": 2
   },
   "file_extension": ".py",
   "mimetype": "text/x-python",
   "name": "python",
   "nbconvert_exporter": "python",
   "pygments_lexer": "ipython2",
   "version": "2.7.6"
  }
 },
 "nbformat": 4,
 "nbformat_minor": 0
}
