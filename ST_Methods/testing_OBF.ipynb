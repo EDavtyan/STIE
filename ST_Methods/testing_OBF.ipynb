{
 "cells": [
  {
   "cell_type": "code",
   "execution_count": 13,
   "outputs": [
    {
     "name": "stdout",
     "output_type": "stream",
     "text": [
      "Requirement already satisfied: matplotlib==3.7.2 in /Users/eddavtyan/Documents/Projects/ai-past/ai-past_db_con_venv_adhoc/lib/python3.9/site-packages (3.7.2)\r\n",
      "Requirement already satisfied: contourpy>=1.0.1 in /Users/eddavtyan/Documents/Projects/ai-past/ai-past_db_con_venv_adhoc/lib/python3.9/site-packages (from matplotlib==3.7.2) (1.1.1)\r\n",
      "Requirement already satisfied: cycler>=0.10 in /Users/eddavtyan/Documents/Projects/ai-past/ai-past_db_con_venv_adhoc/lib/python3.9/site-packages (from matplotlib==3.7.2) (0.12.0)\r\n",
      "Requirement already satisfied: fonttools>=4.22.0 in /Users/eddavtyan/Documents/Projects/ai-past/ai-past_db_con_venv_adhoc/lib/python3.9/site-packages (from matplotlib==3.7.2) (4.43.0)\r\n",
      "Requirement already satisfied: kiwisolver>=1.0.1 in /Users/eddavtyan/Documents/Projects/ai-past/ai-past_db_con_venv_adhoc/lib/python3.9/site-packages (from matplotlib==3.7.2) (1.4.5)\r\n",
      "Requirement already satisfied: numpy>=1.20 in /Users/eddavtyan/Documents/Projects/ai-past/ai-past_db_con_venv_adhoc/lib/python3.9/site-packages (from matplotlib==3.7.2) (1.25.2)\r\n",
      "Requirement already satisfied: packaging>=20.0 in /Users/eddavtyan/Documents/Projects/ai-past/ai-past_db_con_venv_adhoc/lib/python3.9/site-packages (from matplotlib==3.7.2) (23.2)\r\n",
      "Requirement already satisfied: pillow>=6.2.0 in /Users/eddavtyan/Documents/Projects/ai-past/ai-past_db_con_venv_adhoc/lib/python3.9/site-packages (from matplotlib==3.7.2) (10.0.1)\r\n",
      "Requirement already satisfied: pyparsing<3.1,>=2.3.1 in /Users/eddavtyan/Documents/Projects/ai-past/ai-past_db_con_venv_adhoc/lib/python3.9/site-packages (from matplotlib==3.7.2) (3.0.9)\r\n",
      "Requirement already satisfied: python-dateutil>=2.7 in /Users/eddavtyan/Documents/Projects/ai-past/ai-past_db_con_venv_adhoc/lib/python3.9/site-packages (from matplotlib==3.7.2) (2.8.2)\r\n",
      "Requirement already satisfied: importlib-resources>=3.2.0 in /Users/eddavtyan/Documents/Projects/ai-past/ai-past_db_con_venv_adhoc/lib/python3.9/site-packages (from matplotlib==3.7.2) (6.1.0)\r\n",
      "Requirement already satisfied: zipp>=3.1.0 in /Users/eddavtyan/Documents/Projects/ai-past/ai-past_db_con_venv_adhoc/lib/python3.9/site-packages (from importlib-resources>=3.2.0->matplotlib==3.7.2) (3.17.0)\r\n",
      "Requirement already satisfied: six>=1.5 in /Users/eddavtyan/Documents/Projects/ai-past/ai-past_db_con_venv_adhoc/lib/python3.9/site-packages (from python-dateutil>=2.7->matplotlib==3.7.2) (1.16.0)\r\n",
      "Requirement already satisfied: tqdm in /Users/eddavtyan/Documents/Projects/ai-past/ai-past_db_con_venv_adhoc/lib/python3.9/site-packages (4.66.1)\r\n",
      "Requirement already satisfied: plotly in /Users/eddavtyan/Documents/Projects/ai-past/ai-past_db_con_venv_adhoc/lib/python3.9/site-packages (5.16.1)\r\n",
      "Requirement already satisfied: tenacity>=6.2.0 in /Users/eddavtyan/Documents/Projects/ai-past/ai-past_db_con_venv_adhoc/lib/python3.9/site-packages (from plotly) (8.2.3)\r\n",
      "Requirement already satisfied: packaging in /Users/eddavtyan/Documents/Projects/ai-past/ai-past_db_con_venv_adhoc/lib/python3.9/site-packages (from plotly) (23.2)\r\n",
      "Requirement already satisfied: pandas==1.3.4 in /Users/eddavtyan/Documents/Projects/ai-past/ai-past_db_con_venv_adhoc/lib/python3.9/site-packages (1.3.4)\r\n",
      "Requirement already satisfied: python-dateutil>=2.7.3 in /Users/eddavtyan/Documents/Projects/ai-past/ai-past_db_con_venv_adhoc/lib/python3.9/site-packages (from pandas==1.3.4) (2.8.2)\r\n",
      "Requirement already satisfied: pytz>=2017.3 in /Users/eddavtyan/Documents/Projects/ai-past/ai-past_db_con_venv_adhoc/lib/python3.9/site-packages (from pandas==1.3.4) (2023.3.post1)\r\n",
      "Requirement already satisfied: numpy>=1.17.3 in /Users/eddavtyan/Documents/Projects/ai-past/ai-past_db_con_venv_adhoc/lib/python3.9/site-packages (from pandas==1.3.4) (1.25.2)\r\n",
      "Requirement already satisfied: six>=1.5 in /Users/eddavtyan/Documents/Projects/ai-past/ai-past_db_con_venv_adhoc/lib/python3.9/site-packages (from python-dateutil>=2.7.3->pandas==1.3.4) (1.16.0)\r\n",
      "Requirement already satisfied: pyarrow in /Users/eddavtyan/Documents/Projects/ai-past/ai-past_db_con_venv_adhoc/lib/python3.9/site-packages (13.0.0)\r\n",
      "Requirement already satisfied: numpy>=1.16.6 in /Users/eddavtyan/Documents/Projects/ai-past/ai-past_db_con_venv_adhoc/lib/python3.9/site-packages (from pyarrow) (1.25.2)\r\n"
     ]
    }
   ],
   "source": [
    "!pip3 install matplotlib==3.7.2\n",
    "!pip3 install tqdm\n",
    "!pip3 install plotly\n",
    "!pip3 install pandas==1.3.4\n",
    "!pip3 install pyarrow"
   ],
   "metadata": {
    "collapsed": false
   }
  },
  {
   "cell_type": "code",
   "execution_count": 14,
   "outputs": [],
   "source": [
    "from ST_Methods.obf import OBF"
   ],
   "metadata": {
    "collapsed": false
   }
  },
  {
   "cell_type": "code",
   "execution_count": 15,
   "outputs": [],
   "source": [
    "import os\n",
    "import s3fs\n",
    "from pyspark.sql import SparkSession\n",
    "\n",
    "from pyspark.sql.functions import *\n",
    "from pyspark.sql.window import *\n",
    "\n",
    "spark = SparkSession.builder.getOrCreate()\n",
    "s3 = s3fs.S3FileSystem(anon=False)"
   ],
   "metadata": {
    "collapsed": false
   }
  },
  {
   "cell_type": "code",
   "execution_count": 16,
   "outputs": [],
   "source": [
    "class WriteReader:\n",
    "    def __init__(self, base_path):\n",
    "        self.base_path = base_path\n",
    "\n",
    "    def write_and_read(self, df, name):\n",
    "        path = os.path.join(self.base_path, name)\n",
    "        df.write.mode(\"Overwrite\").format(\"parquet\").save(path)\n",
    "        df = spark.read.format(\"parquet\").load(path)\n",
    "        return df\n",
    "\n",
    "    def read(self, name):\n",
    "        path = os.path.join(self.base_path, name)\n",
    "        df = spark.read.format(\"parquet\").load(path)\n",
    "        return df\n",
    "\n",
    "def ls(path):\n",
    "    display(dbutils.fs.ls(path))\n",
    "def rm(path):\n",
    "    dbutils.fs.rm(path, True)\n",
    "\n",
    "path = \"s3://pa-ai-datascience-storage-dev/users/ub/edgar.davtyan/Tasks/Research on AI Gen/Interleaving/PackageScripts/TestData/\"\n",
    "\n",
    "write_reader_parquet = WriteReader(path)\n",
    "write_reader_delta   = WriteReader(path)\n",
    "\n",
    "wr = write_reader_parquet.write_and_read\n",
    "rr = write_reader_parquet.read"
   ],
   "metadata": {
    "collapsed": false
   }
  },
  {
   "cell_type": "code",
   "execution_count": 17,
   "outputs": [
    {
     "name": "stderr",
     "output_type": "stream",
     "text": [
      "[Stage 2:>                                                          (0 + 1) / 1]\r"
     ]
    }
   ],
   "source": [
    "ai_apply_click_aa = rr(\"sample_data_apply_click_aa\").select(\"device_id\", \"sid\", \"keyword\", \"time_hours\", \"photo_id\")\n",
    "ai_apply_click = rr(\"sample_data_apply_click\")\n",
    "sid=[\"sid\", \"keyword\"]\n",
    "grouping=\"time_hours\""
   ],
   "metadata": {
    "collapsed": false
   }
  },
  {
   "cell_type": "code",
   "execution_count": null,
   "outputs": [],
   "source": [
    "OBF_tester = OBF(sid_columns=sid,\n",
    "                        grouping_column=grouping,\n",
    "                         treatment_variant=\"stable_diffusion_v22\",\n",
    "                         control_variant=\"stable_diffusion_v21\",\n",
    "                         item_id_column=\"photo_id\",\n",
    "                         variant_column=\"sd_version\")"
   ],
   "metadata": {
    "collapsed": false
   }
  },
  {
   "cell_type": "code",
   "execution_count": null,
   "outputs": [],
   "source": [
    "spark.conf.set(\"spark.sql.execution.arrow.pyspark.enabled\", \"true\")"
   ],
   "metadata": {
    "collapsed": false
   }
  },
  {
   "cell_type": "code",
   "execution_count": null,
   "outputs": [],
   "source": [
    "threshold = OBF_tester.calculate_threshold(number_of_measurements=45, iterations=100000)"
   ],
   "metadata": {
    "collapsed": false
   }
  },
  {
   "cell_type": "code",
   "execution_count": null,
   "outputs": [],
   "source": [
    "OBF_tester.transform(ai_apply_click)"
   ],
   "metadata": {
    "collapsed": false
   }
  },
  {
   "cell_type": "code",
   "execution_count": null,
   "outputs": [],
   "source": [],
   "metadata": {
    "collapsed": false
   }
  },
  {
   "cell_type": "code",
   "execution_count": null,
   "outputs": [],
   "source": [
    "results = OBF_tester.run_test(O_i_threshold=threshold)"
   ],
   "metadata": {
    "collapsed": false
   }
  },
  {
   "cell_type": "code",
   "execution_count": null,
   "outputs": [],
   "source": [
    "OBF_tester.visualize(results)"
   ],
   "metadata": {
    "collapsed": false
   }
  },
  {
   "cell_type": "code",
   "execution_count": null,
   "outputs": [],
   "source": [
    "from pyspark.sql.types import TimestampType\n",
    "\n",
    "threshold_data = spark.read.format(\"parquet\").load(data_dir_1)\\\n",
    "    .select(\"sid\", \"keyword\", \"time_hours\", \"photo_id\")\n",
    "\n",
    "experiment_data = spark.read.format(\"parquet\").load(data_dir_2)\\\n",
    "    .select(\"sid\", \"keyword\", \"time_hours\", \"photo_id\", \"variant\")\n",
    "\n",
    "sid=[\"sid\", \"keyword\"]\n",
    "grouping=\"time_hours\"\n",
    "control = \"A\"\n",
    "treatment = \"B\"\n",
    "item_id = \"photo_id\"\n",
    "variant_column = \"variant\"\n",
    "\n",
    "obf_test = OBF(sid_column=sid,\n",
    "               grouping_columns=grouping,\n",
    "               treatment_variant=treatment,\n",
    "               control_variant=control,\n",
    "               item_id_column=item_id,\n",
    "               variant_column=variant_column)\n",
    "\n",
    "threshold = obf_test.calculate_threshold(number_of_measurements=45,\n",
    "                                         iterations=100000)\n",
    "\n",
    "obf_test.transform(experiment_data)\n",
    "\n",
    "results = obf_test.run_test(L_i_threshold=threshold)\n",
    "\n",
    "obf_test.visualize(results)"
   ],
   "metadata": {
    "collapsed": false
   }
  },
  {
   "cell_type": "markdown",
   "source": [
    "Testing test functions"
   ],
   "metadata": {
    "collapsed": false
   }
  },
  {
   "cell_type": "code",
   "execution_count": 18,
   "outputs": [],
   "source": [
    "import unittest\n",
    "from datetime import datetime\n",
    "\n",
    "from ST_Methods.obf import OBF\n",
    "from pyspark.sql import SparkSession\n",
    "\n",
    "import pandas as pd\n",
    "import numpy as np\n",
    "\n",
    "spark = SparkSession.builder.getOrCreate()"
   ],
   "metadata": {
    "collapsed": false
   }
  },
  {
   "cell_type": "code",
   "execution_count": 19,
   "outputs": [],
   "source": [
    "def create_variants():\n",
    "    # Fixing the random seed for reproducibility\n",
    "    np.random.seed(42)\n",
    "    # Parameters\n",
    "    start_time = pd.Timestamp(\"2023-06-05 06:00:00\")\n",
    "    end_time = pd.Timestamp(\"2023-06-05 23:00:00\")\n",
    "    mean_rows_per_hour = 1150\n",
    "    stddev_rows_per_hour = 240\n",
    "    unique_sids = 2000  # Number of unique sid_1 and sid_2 identifiers\n",
    "    p_A = 0.45  # Probability of selecting variant A\n",
    "\n",
    "    # Generate consecutive hours\n",
    "    hours = pd.date_range(start=start_time, end=end_time, freq='H')\n",
    "\n",
    "    # Generate unique sid_1 and sid_2 identifiers\n",
    "    sid_1 = np.random.randint(100, 1000, size=unique_sids)\n",
    "    sid_2 = np.random.randint(1000, 2000, size=unique_sids)\n",
    "\n",
    "    # Initialize DataFrame\n",
    "    simulated_data = pd.DataFrame(columns=['hours', 'sid_1', 'sid_2', 'item_id', 'variant'])\n",
    "\n",
    "    # Start item_id from a 15-digit number\n",
    "    item_id_start = 10 ** 14\n",
    "\n",
    "    # Generate data for each hour\n",
    "    for hour in hours:\n",
    "        # Generate number of rows for the current hour using a normal distribution\n",
    "        num_rows = int(np.random.normal(loc=mean_rows_per_hour, scale=stddev_rows_per_hour))\n",
    "\n",
    "        # Create DataFrame for the current hour\n",
    "        current_data = pd.DataFrame({\n",
    "            'hours': [hour] * num_rows,\n",
    "            'sid_1': np.random.choice(sid_1, num_rows),\n",
    "            'sid_2': np.random.choice(sid_2, num_rows),\n",
    "            'item_id': np.arange(item_id_start, item_id_start + num_rows),\n",
    "            'variant': np.random.choice(['A', 'B'], num_rows, p=[p_A, 1 - p_A])\n",
    "        })\n",
    "\n",
    "        # Append to the main DataFrame\n",
    "        simulated_data = pd.concat([simulated_data, current_data], ignore_index=True)\n",
    "\n",
    "        # Update item_id_start for uniqueness in the next iteration\n",
    "        item_id_start += num_rows\n",
    "\n",
    "    # Convert the Pandas DataFrame to a Spark DataFrame\n",
    "    simulated_data_spark = spark.createDataFrame(simulated_data)\n",
    "\n",
    "    return simulated_data_spark"
   ],
   "metadata": {
    "collapsed": false
   }
  },
  {
   "cell_type": "code",
   "execution_count": 20,
   "outputs": [],
   "source": [
    "OBF_tester = OBF(sid_columns=[\"sid_1\", \"sid_2\"],\n",
    "                 grouping_column=\"hours\",\n",
    "                 treatment_variant=\"B\",\n",
    "                 control_variant=\"A\",\n",
    "                 item_id_column=\"item_id\",\n",
    "                 variant_column=\"variant\")"
   ],
   "metadata": {
    "collapsed": false
   }
  },
  {
   "cell_type": "code",
   "execution_count": 21,
   "outputs": [
    {
     "name": "stderr",
     "output_type": "stream",
     "text": [
      "100%|██████████| 100000/100000 [00:01<00:00, 80204.16it/s]\n"
     ]
    }
   ],
   "source": [
    "threshold = OBF_tester.calculate_threshold(number_of_measurements=45,\n",
    "                                         iterations=100000)"
   ],
   "metadata": {
    "collapsed": false
   }
  },
  {
   "cell_type": "code",
   "execution_count": 22,
   "outputs": [
    {
     "name": "stdout",
     "output_type": "stream",
     "text": [
      "View job details at https://picsart-dev.cloud.databricks.com/?o=0#/setting/clusters/0219-083901-krfv8a0u/sparkUi\n"
     ]
    },
    {
     "name": "stderr",
     "output_type": "stream",
     "text": [
      "[Stage 5:>                  (0 + 8) / 8][Stage 7:>                  (0 + 0) / 1]\r"
     ]
    },
    {
     "name": "stdout",
     "output_type": "stream",
     "text": [
      "+-----+-----+-------------------+-------+---------+-------+------------+-----+\n",
      "|sid_1|sid_2|              hours|variant|tr_clicks|variant|cntrl_clicks|score|\n",
      "+-----+-----+-------------------+-------+---------+-------+------------+-----+\n",
      "|  100| 1045|2023-06-05 08:00:00|   null|        0|      A|           1|   -1|\n",
      "|  100| 1052|2023-06-05 09:00:00|      B|        1|   null|           0|    1|\n",
      "|  100| 1065|2023-06-05 11:00:00|   null|        0|      A|           1|   -1|\n",
      "|  100| 1076|2023-06-05 21:00:00|      B|        1|   null|           0|    1|\n",
      "|  100| 1086|2023-06-05 22:00:00|   null|        0|      A|           1|   -1|\n",
      "|  100| 1131|2023-06-05 11:00:00|      B|        1|   null|           0|    1|\n",
      "|  100| 1142|2023-06-05 22:00:00|      B|        1|   null|           0|    1|\n",
      "|  100| 1143|2023-06-05 09:00:00|      B|        1|   null|           0|    1|\n",
      "|  100| 1145|2023-06-05 20:00:00|      B|        1|   null|           0|    1|\n",
      "|  100| 1146|2023-06-05 06:00:00|   null|        0|      A|           1|   -1|\n",
      "|  100| 1151|2023-06-05 20:00:00|   null|        0|      A|           1|   -1|\n",
      "|  100| 1160|2023-06-05 20:00:00|      B|        1|   null|           0|    1|\n",
      "|  100| 1195|2023-06-05 13:00:00|      B|        1|   null|           0|    1|\n",
      "|  100| 1201|2023-06-05 23:00:00|   null|        0|      A|           1|   -1|\n",
      "|  100| 1235|2023-06-05 06:00:00|      B|        1|   null|           0|    1|\n",
      "|  100| 1241|2023-06-05 20:00:00|   null|        0|      A|           1|   -1|\n",
      "|  100| 1355|2023-06-05 20:00:00|      B|        1|   null|           0|    1|\n",
      "|  100| 1373|2023-06-05 21:00:00|      B|        1|   null|           0|    1|\n",
      "|  100| 1399|2023-06-05 17:00:00|   null|        0|      A|           1|   -1|\n",
      "|  100| 1421|2023-06-05 20:00:00|   null|        0|      A|           1|   -1|\n",
      "+-----+-----+-------------------+-------+---------+-------+------------+-----+\n",
      "only showing top 20 rows\n",
      "\n"
     ]
    }
   ],
   "source": [
    "OBF_tester.transform(create_variants()).show()"
   ],
   "metadata": {
    "collapsed": false
   }
  },
  {
   "cell_type": "code",
   "execution_count": 23,
   "outputs": [
    {
     "data": {
      "text/plain": "DataFrame[hours: timestamp, T_i_sngl: bigint, m_i_sngl: bigint, D_i: double, i: int, T_i: bigint, m_i: bigint, m_i_pow2: double, O_i: double, O_i*i: double, threshold: double, can_stop: boolean]"
     },
     "execution_count": 23,
     "metadata": {},
     "output_type": "execute_result"
    }
   ],
   "source": [
    "results = OBF_tester.run_test(O_i_threshold=threshold)\n",
    "\n",
    "results"
   ],
   "metadata": {
    "collapsed": false
   }
  },
  {
   "cell_type": "code",
   "execution_count": 24,
   "outputs": [
    {
     "name": "stderr",
     "output_type": "stream",
     "text": [
      "[Stage 20:>                                                         (0 + 1) / 1]\r"
     ]
    },
    {
     "name": "stdout",
     "output_type": "stream",
     "text": [
      "View job details at https://picsart-dev.cloud.databricks.com/?o=0#/setting/clusters/0219-083901-krfv8a0u/sparkUi\n"
     ]
    },
    {
     "name": "stderr",
     "output_type": "stream",
     "text": [
      "                                                                                \r"
     ]
    },
    {
     "name": "stdout",
     "output_type": "stream",
     "text": [
      "View job details at https://picsart-dev.cloud.databricks.com/?o=0#/setting/clusters/0219-083901-krfv8a0u/sparkUi\n"
     ]
    },
    {
     "data": {
      "application/vnd.plotly.v1+json": {
       "data": [
        {
         "line": {
          "color": "royalblue",
          "width": 2
         },
         "mode": "lines",
         "name": "O_i*i",
         "x": [
          "2023-06-05T06:00:00",
          "2023-06-05T07:00:00",
          "2023-06-05T08:00:00",
          "2023-06-05T09:00:00",
          "2023-06-05T10:00:00",
          "2023-06-05T11:00:00",
          "2023-06-05T12:00:00",
          "2023-06-05T13:00:00",
          "2023-06-05T14:00:00",
          "2023-06-05T15:00:00",
          "2023-06-05T16:00:00",
          "2023-06-05T17:00:00",
          "2023-06-05T18:00:00",
          "2023-06-05T19:00:00",
          "2023-06-05T20:00:00",
          "2023-06-05T21:00:00",
          "2023-06-05T22:00:00",
          "2023-06-05T23:00:00"
         ],
         "y": [
          5.184729349145708,
          33.95267989825605,
          91.28198255385037,
          160.28388873943854,
          231.0079389052956,
          335.5671856101468,
          436.34952433183855,
          621.8093245196573,
          834.069150425689,
          1002.5796417894244,
          1089.6008511167918,
          1376.5687042038844,
          1589.9113854384561,
          1776.4758272220515,
          2067.662084851601,
          2292.8723977930217,
          2633.128335748687,
          3040.7065870482475
         ],
         "type": "scatter"
        },
        {
         "line": {
          "color": "green",
          "dash": "dot",
          "width": 2
         },
         "mode": "lines",
         "name": "positive threshold",
         "x": [
          "2023-06-05T06:00:00",
          "2023-06-05T07:00:00",
          "2023-06-05T08:00:00",
          "2023-06-05T09:00:00",
          "2023-06-05T10:00:00",
          "2023-06-05T11:00:00",
          "2023-06-05T12:00:00",
          "2023-06-05T13:00:00",
          "2023-06-05T14:00:00",
          "2023-06-05T15:00:00",
          "2023-06-05T16:00:00",
          "2023-06-05T17:00:00",
          "2023-06-05T18:00:00",
          "2023-06-05T19:00:00",
          "2023-06-05T20:00:00",
          "2023-06-05T21:00:00",
          "2023-06-05T22:00:00",
          "2023-06-05T23:00:00"
         ],
         "y": [
          210.75813865234602,
          210.75813865234602,
          210.75813865234602,
          210.75813865234602,
          210.75813865234602,
          210.75813865234602,
          210.75813865234602,
          210.75813865234602,
          210.75813865234602,
          210.75813865234602,
          210.75813865234602,
          210.75813865234602,
          210.75813865234602,
          210.75813865234602,
          210.75813865234602,
          210.75813865234602,
          210.75813865234602,
          210.75813865234602
         ],
         "type": "scatter"
        },
        {
         "line": {
          "color": "red",
          "dash": "dot",
          "width": 2
         },
         "mode": "lines",
         "name": "negative threshold",
         "x": [
          "2023-06-05T06:00:00",
          "2023-06-05T07:00:00",
          "2023-06-05T08:00:00",
          "2023-06-05T09:00:00",
          "2023-06-05T10:00:00",
          "2023-06-05T11:00:00",
          "2023-06-05T12:00:00",
          "2023-06-05T13:00:00",
          "2023-06-05T14:00:00",
          "2023-06-05T15:00:00",
          "2023-06-05T16:00:00",
          "2023-06-05T17:00:00",
          "2023-06-05T18:00:00",
          "2023-06-05T19:00:00",
          "2023-06-05T20:00:00",
          "2023-06-05T21:00:00",
          "2023-06-05T22:00:00",
          "2023-06-05T23:00:00"
         ],
         "y": [
          -210.75813865234602,
          -210.75813865234602,
          -210.75813865234602,
          -210.75813865234602,
          -210.75813865234602,
          -210.75813865234602,
          -210.75813865234602,
          -210.75813865234602,
          -210.75813865234602,
          -210.75813865234602,
          -210.75813865234602,
          -210.75813865234602,
          -210.75813865234602,
          -210.75813865234602,
          -210.75813865234602,
          -210.75813865234602,
          -210.75813865234602,
          -210.75813865234602
         ],
         "type": "scatter"
        }
       ],
       "layout": {
        "font": {
         "color": "#7f7f7f",
         "family": "Courier New, monospace",
         "size": 18
        },
        "hovermode": "closest",
        "paper_bgcolor": "white",
        "plot_bgcolor": "white",
        "title": {
         "text": "OBF Visualisation"
        },
        "xaxis": {
         "gridcolor": "lightgray",
         "title": {
          "text": "hours"
         }
        },
        "yaxis": {
         "gridcolor": "lightgray",
         "title": {
          "text": "Values"
         }
        },
        "template": {
         "data": {
          "histogram2dcontour": [
           {
            "type": "histogram2dcontour",
            "colorbar": {
             "outlinewidth": 0,
             "ticks": ""
            },
            "colorscale": [
             [
              0.0,
              "#0d0887"
             ],
             [
              0.1111111111111111,
              "#46039f"
             ],
             [
              0.2222222222222222,
              "#7201a8"
             ],
             [
              0.3333333333333333,
              "#9c179e"
             ],
             [
              0.4444444444444444,
              "#bd3786"
             ],
             [
              0.5555555555555556,
              "#d8576b"
             ],
             [
              0.6666666666666666,
              "#ed7953"
             ],
             [
              0.7777777777777778,
              "#fb9f3a"
             ],
             [
              0.8888888888888888,
              "#fdca26"
             ],
             [
              1.0,
              "#f0f921"
             ]
            ]
           }
          ],
          "choropleth": [
           {
            "type": "choropleth",
            "colorbar": {
             "outlinewidth": 0,
             "ticks": ""
            }
           }
          ],
          "histogram2d": [
           {
            "type": "histogram2d",
            "colorbar": {
             "outlinewidth": 0,
             "ticks": ""
            },
            "colorscale": [
             [
              0.0,
              "#0d0887"
             ],
             [
              0.1111111111111111,
              "#46039f"
             ],
             [
              0.2222222222222222,
              "#7201a8"
             ],
             [
              0.3333333333333333,
              "#9c179e"
             ],
             [
              0.4444444444444444,
              "#bd3786"
             ],
             [
              0.5555555555555556,
              "#d8576b"
             ],
             [
              0.6666666666666666,
              "#ed7953"
             ],
             [
              0.7777777777777778,
              "#fb9f3a"
             ],
             [
              0.8888888888888888,
              "#fdca26"
             ],
             [
              1.0,
              "#f0f921"
             ]
            ]
           }
          ],
          "heatmap": [
           {
            "type": "heatmap",
            "colorbar": {
             "outlinewidth": 0,
             "ticks": ""
            },
            "colorscale": [
             [
              0.0,
              "#0d0887"
             ],
             [
              0.1111111111111111,
              "#46039f"
             ],
             [
              0.2222222222222222,
              "#7201a8"
             ],
             [
              0.3333333333333333,
              "#9c179e"
             ],
             [
              0.4444444444444444,
              "#bd3786"
             ],
             [
              0.5555555555555556,
              "#d8576b"
             ],
             [
              0.6666666666666666,
              "#ed7953"
             ],
             [
              0.7777777777777778,
              "#fb9f3a"
             ],
             [
              0.8888888888888888,
              "#fdca26"
             ],
             [
              1.0,
              "#f0f921"
             ]
            ]
           }
          ],
          "heatmapgl": [
           {
            "type": "heatmapgl",
            "colorbar": {
             "outlinewidth": 0,
             "ticks": ""
            },
            "colorscale": [
             [
              0.0,
              "#0d0887"
             ],
             [
              0.1111111111111111,
              "#46039f"
             ],
             [
              0.2222222222222222,
              "#7201a8"
             ],
             [
              0.3333333333333333,
              "#9c179e"
             ],
             [
              0.4444444444444444,
              "#bd3786"
             ],
             [
              0.5555555555555556,
              "#d8576b"
             ],
             [
              0.6666666666666666,
              "#ed7953"
             ],
             [
              0.7777777777777778,
              "#fb9f3a"
             ],
             [
              0.8888888888888888,
              "#fdca26"
             ],
             [
              1.0,
              "#f0f921"
             ]
            ]
           }
          ],
          "contourcarpet": [
           {
            "type": "contourcarpet",
            "colorbar": {
             "outlinewidth": 0,
             "ticks": ""
            }
           }
          ],
          "contour": [
           {
            "type": "contour",
            "colorbar": {
             "outlinewidth": 0,
             "ticks": ""
            },
            "colorscale": [
             [
              0.0,
              "#0d0887"
             ],
             [
              0.1111111111111111,
              "#46039f"
             ],
             [
              0.2222222222222222,
              "#7201a8"
             ],
             [
              0.3333333333333333,
              "#9c179e"
             ],
             [
              0.4444444444444444,
              "#bd3786"
             ],
             [
              0.5555555555555556,
              "#d8576b"
             ],
             [
              0.6666666666666666,
              "#ed7953"
             ],
             [
              0.7777777777777778,
              "#fb9f3a"
             ],
             [
              0.8888888888888888,
              "#fdca26"
             ],
             [
              1.0,
              "#f0f921"
             ]
            ]
           }
          ],
          "surface": [
           {
            "type": "surface",
            "colorbar": {
             "outlinewidth": 0,
             "ticks": ""
            },
            "colorscale": [
             [
              0.0,
              "#0d0887"
             ],
             [
              0.1111111111111111,
              "#46039f"
             ],
             [
              0.2222222222222222,
              "#7201a8"
             ],
             [
              0.3333333333333333,
              "#9c179e"
             ],
             [
              0.4444444444444444,
              "#bd3786"
             ],
             [
              0.5555555555555556,
              "#d8576b"
             ],
             [
              0.6666666666666666,
              "#ed7953"
             ],
             [
              0.7777777777777778,
              "#fb9f3a"
             ],
             [
              0.8888888888888888,
              "#fdca26"
             ],
             [
              1.0,
              "#f0f921"
             ]
            ]
           }
          ],
          "mesh3d": [
           {
            "type": "mesh3d",
            "colorbar": {
             "outlinewidth": 0,
             "ticks": ""
            }
           }
          ],
          "scatter": [
           {
            "fillpattern": {
             "fillmode": "overlay",
             "size": 10,
             "solidity": 0.2
            },
            "type": "scatter"
           }
          ],
          "parcoords": [
           {
            "type": "parcoords",
            "line": {
             "colorbar": {
              "outlinewidth": 0,
              "ticks": ""
             }
            }
           }
          ],
          "scatterpolargl": [
           {
            "type": "scatterpolargl",
            "marker": {
             "colorbar": {
              "outlinewidth": 0,
              "ticks": ""
             }
            }
           }
          ],
          "bar": [
           {
            "error_x": {
             "color": "#2a3f5f"
            },
            "error_y": {
             "color": "#2a3f5f"
            },
            "marker": {
             "line": {
              "color": "#E5ECF6",
              "width": 0.5
             },
             "pattern": {
              "fillmode": "overlay",
              "size": 10,
              "solidity": 0.2
             }
            },
            "type": "bar"
           }
          ],
          "scattergeo": [
           {
            "type": "scattergeo",
            "marker": {
             "colorbar": {
              "outlinewidth": 0,
              "ticks": ""
             }
            }
           }
          ],
          "scatterpolar": [
           {
            "type": "scatterpolar",
            "marker": {
             "colorbar": {
              "outlinewidth": 0,
              "ticks": ""
             }
            }
           }
          ],
          "histogram": [
           {
            "marker": {
             "pattern": {
              "fillmode": "overlay",
              "size": 10,
              "solidity": 0.2
             }
            },
            "type": "histogram"
           }
          ],
          "scattergl": [
           {
            "type": "scattergl",
            "marker": {
             "colorbar": {
              "outlinewidth": 0,
              "ticks": ""
             }
            }
           }
          ],
          "scatter3d": [
           {
            "type": "scatter3d",
            "line": {
             "colorbar": {
              "outlinewidth": 0,
              "ticks": ""
             }
            },
            "marker": {
             "colorbar": {
              "outlinewidth": 0,
              "ticks": ""
             }
            }
           }
          ],
          "scattermapbox": [
           {
            "type": "scattermapbox",
            "marker": {
             "colorbar": {
              "outlinewidth": 0,
              "ticks": ""
             }
            }
           }
          ],
          "scatterternary": [
           {
            "type": "scatterternary",
            "marker": {
             "colorbar": {
              "outlinewidth": 0,
              "ticks": ""
             }
            }
           }
          ],
          "scattercarpet": [
           {
            "type": "scattercarpet",
            "marker": {
             "colorbar": {
              "outlinewidth": 0,
              "ticks": ""
             }
            }
           }
          ],
          "carpet": [
           {
            "aaxis": {
             "endlinecolor": "#2a3f5f",
             "gridcolor": "white",
             "linecolor": "white",
             "minorgridcolor": "white",
             "startlinecolor": "#2a3f5f"
            },
            "baxis": {
             "endlinecolor": "#2a3f5f",
             "gridcolor": "white",
             "linecolor": "white",
             "minorgridcolor": "white",
             "startlinecolor": "#2a3f5f"
            },
            "type": "carpet"
           }
          ],
          "table": [
           {
            "cells": {
             "fill": {
              "color": "#EBF0F8"
             },
             "line": {
              "color": "white"
             }
            },
            "header": {
             "fill": {
              "color": "#C8D4E3"
             },
             "line": {
              "color": "white"
             }
            },
            "type": "table"
           }
          ],
          "barpolar": [
           {
            "marker": {
             "line": {
              "color": "#E5ECF6",
              "width": 0.5
             },
             "pattern": {
              "fillmode": "overlay",
              "size": 10,
              "solidity": 0.2
             }
            },
            "type": "barpolar"
           }
          ],
          "pie": [
           {
            "automargin": true,
            "type": "pie"
           }
          ]
         },
         "layout": {
          "autotypenumbers": "strict",
          "colorway": [
           "#636efa",
           "#EF553B",
           "#00cc96",
           "#ab63fa",
           "#FFA15A",
           "#19d3f3",
           "#FF6692",
           "#B6E880",
           "#FF97FF",
           "#FECB52"
          ],
          "font": {
           "color": "#2a3f5f"
          },
          "hovermode": "closest",
          "hoverlabel": {
           "align": "left"
          },
          "paper_bgcolor": "white",
          "plot_bgcolor": "#E5ECF6",
          "polar": {
           "bgcolor": "#E5ECF6",
           "angularaxis": {
            "gridcolor": "white",
            "linecolor": "white",
            "ticks": ""
           },
           "radialaxis": {
            "gridcolor": "white",
            "linecolor": "white",
            "ticks": ""
           }
          },
          "ternary": {
           "bgcolor": "#E5ECF6",
           "aaxis": {
            "gridcolor": "white",
            "linecolor": "white",
            "ticks": ""
           },
           "baxis": {
            "gridcolor": "white",
            "linecolor": "white",
            "ticks": ""
           },
           "caxis": {
            "gridcolor": "white",
            "linecolor": "white",
            "ticks": ""
           }
          },
          "coloraxis": {
           "colorbar": {
            "outlinewidth": 0,
            "ticks": ""
           }
          },
          "colorscale": {
           "sequential": [
            [
             0.0,
             "#0d0887"
            ],
            [
             0.1111111111111111,
             "#46039f"
            ],
            [
             0.2222222222222222,
             "#7201a8"
            ],
            [
             0.3333333333333333,
             "#9c179e"
            ],
            [
             0.4444444444444444,
             "#bd3786"
            ],
            [
             0.5555555555555556,
             "#d8576b"
            ],
            [
             0.6666666666666666,
             "#ed7953"
            ],
            [
             0.7777777777777778,
             "#fb9f3a"
            ],
            [
             0.8888888888888888,
             "#fdca26"
            ],
            [
             1.0,
             "#f0f921"
            ]
           ],
           "sequentialminus": [
            [
             0.0,
             "#0d0887"
            ],
            [
             0.1111111111111111,
             "#46039f"
            ],
            [
             0.2222222222222222,
             "#7201a8"
            ],
            [
             0.3333333333333333,
             "#9c179e"
            ],
            [
             0.4444444444444444,
             "#bd3786"
            ],
            [
             0.5555555555555556,
             "#d8576b"
            ],
            [
             0.6666666666666666,
             "#ed7953"
            ],
            [
             0.7777777777777778,
             "#fb9f3a"
            ],
            [
             0.8888888888888888,
             "#fdca26"
            ],
            [
             1.0,
             "#f0f921"
            ]
           ],
           "diverging": [
            [
             0,
             "#8e0152"
            ],
            [
             0.1,
             "#c51b7d"
            ],
            [
             0.2,
             "#de77ae"
            ],
            [
             0.3,
             "#f1b6da"
            ],
            [
             0.4,
             "#fde0ef"
            ],
            [
             0.5,
             "#f7f7f7"
            ],
            [
             0.6,
             "#e6f5d0"
            ],
            [
             0.7,
             "#b8e186"
            ],
            [
             0.8,
             "#7fbc41"
            ],
            [
             0.9,
             "#4d9221"
            ],
            [
             1,
             "#276419"
            ]
           ]
          },
          "xaxis": {
           "gridcolor": "white",
           "linecolor": "white",
           "ticks": "",
           "title": {
            "standoff": 15
           },
           "zerolinecolor": "white",
           "automargin": true,
           "zerolinewidth": 2
          },
          "yaxis": {
           "gridcolor": "white",
           "linecolor": "white",
           "ticks": "",
           "title": {
            "standoff": 15
           },
           "zerolinecolor": "white",
           "automargin": true,
           "zerolinewidth": 2
          },
          "scene": {
           "xaxis": {
            "backgroundcolor": "#E5ECF6",
            "gridcolor": "white",
            "linecolor": "white",
            "showbackground": true,
            "ticks": "",
            "zerolinecolor": "white",
            "gridwidth": 2
           },
           "yaxis": {
            "backgroundcolor": "#E5ECF6",
            "gridcolor": "white",
            "linecolor": "white",
            "showbackground": true,
            "ticks": "",
            "zerolinecolor": "white",
            "gridwidth": 2
           },
           "zaxis": {
            "backgroundcolor": "#E5ECF6",
            "gridcolor": "white",
            "linecolor": "white",
            "showbackground": true,
            "ticks": "",
            "zerolinecolor": "white",
            "gridwidth": 2
           }
          },
          "shapedefaults": {
           "line": {
            "color": "#2a3f5f"
           }
          },
          "annotationdefaults": {
           "arrowcolor": "#2a3f5f",
           "arrowhead": 0,
           "arrowwidth": 1
          },
          "geo": {
           "bgcolor": "white",
           "landcolor": "#E5ECF6",
           "subunitcolor": "white",
           "showland": true,
           "showlakes": true,
           "lakecolor": "white"
          },
          "title": {
           "x": 0.05
          },
          "mapbox": {
           "style": "light"
          }
         }
        }
       },
       "config": {
        "plotlyServerURL": "https://plot.ly"
       }
      },
      "text/html": "<div>                            <div id=\"a4f65704-e8d1-4890-8db2-0f2c5dccf51e\" class=\"plotly-graph-div\" style=\"height:525px; width:100%;\"></div>            <script type=\"text/javascript\">                require([\"plotly\"], function(Plotly) {                    window.PLOTLYENV=window.PLOTLYENV || {};                                    if (document.getElementById(\"a4f65704-e8d1-4890-8db2-0f2c5dccf51e\")) {                    Plotly.newPlot(                        \"a4f65704-e8d1-4890-8db2-0f2c5dccf51e\",                        [{\"line\":{\"color\":\"royalblue\",\"width\":2},\"mode\":\"lines\",\"name\":\"O_i*i\",\"x\":[\"2023-06-05T06:00:00\",\"2023-06-05T07:00:00\",\"2023-06-05T08:00:00\",\"2023-06-05T09:00:00\",\"2023-06-05T10:00:00\",\"2023-06-05T11:00:00\",\"2023-06-05T12:00:00\",\"2023-06-05T13:00:00\",\"2023-06-05T14:00:00\",\"2023-06-05T15:00:00\",\"2023-06-05T16:00:00\",\"2023-06-05T17:00:00\",\"2023-06-05T18:00:00\",\"2023-06-05T19:00:00\",\"2023-06-05T20:00:00\",\"2023-06-05T21:00:00\",\"2023-06-05T22:00:00\",\"2023-06-05T23:00:00\"],\"y\":[5.184729349145708,33.95267989825605,91.28198255385037,160.28388873943854,231.0079389052956,335.5671856101468,436.34952433183855,621.8093245196573,834.069150425689,1002.5796417894244,1089.6008511167918,1376.5687042038844,1589.9113854384561,1776.4758272220515,2067.662084851601,2292.8723977930217,2633.128335748687,3040.7065870482475],\"type\":\"scatter\"},{\"line\":{\"color\":\"green\",\"dash\":\"dot\",\"width\":2},\"mode\":\"lines\",\"name\":\"positive threshold\",\"x\":[\"2023-06-05T06:00:00\",\"2023-06-05T07:00:00\",\"2023-06-05T08:00:00\",\"2023-06-05T09:00:00\",\"2023-06-05T10:00:00\",\"2023-06-05T11:00:00\",\"2023-06-05T12:00:00\",\"2023-06-05T13:00:00\",\"2023-06-05T14:00:00\",\"2023-06-05T15:00:00\",\"2023-06-05T16:00:00\",\"2023-06-05T17:00:00\",\"2023-06-05T18:00:00\",\"2023-06-05T19:00:00\",\"2023-06-05T20:00:00\",\"2023-06-05T21:00:00\",\"2023-06-05T22:00:00\",\"2023-06-05T23:00:00\"],\"y\":[210.75813865234602,210.75813865234602,210.75813865234602,210.75813865234602,210.75813865234602,210.75813865234602,210.75813865234602,210.75813865234602,210.75813865234602,210.75813865234602,210.75813865234602,210.75813865234602,210.75813865234602,210.75813865234602,210.75813865234602,210.75813865234602,210.75813865234602,210.75813865234602],\"type\":\"scatter\"},{\"line\":{\"color\":\"red\",\"dash\":\"dot\",\"width\":2},\"mode\":\"lines\",\"name\":\"negative threshold\",\"x\":[\"2023-06-05T06:00:00\",\"2023-06-05T07:00:00\",\"2023-06-05T08:00:00\",\"2023-06-05T09:00:00\",\"2023-06-05T10:00:00\",\"2023-06-05T11:00:00\",\"2023-06-05T12:00:00\",\"2023-06-05T13:00:00\",\"2023-06-05T14:00:00\",\"2023-06-05T15:00:00\",\"2023-06-05T16:00:00\",\"2023-06-05T17:00:00\",\"2023-06-05T18:00:00\",\"2023-06-05T19:00:00\",\"2023-06-05T20:00:00\",\"2023-06-05T21:00:00\",\"2023-06-05T22:00:00\",\"2023-06-05T23:00:00\"],\"y\":[-210.75813865234602,-210.75813865234602,-210.75813865234602,-210.75813865234602,-210.75813865234602,-210.75813865234602,-210.75813865234602,-210.75813865234602,-210.75813865234602,-210.75813865234602,-210.75813865234602,-210.75813865234602,-210.75813865234602,-210.75813865234602,-210.75813865234602,-210.75813865234602,-210.75813865234602,-210.75813865234602],\"type\":\"scatter\"}],                        {\"font\":{\"color\":\"#7f7f7f\",\"family\":\"Courier New, monospace\",\"size\":18},\"hovermode\":\"closest\",\"paper_bgcolor\":\"white\",\"plot_bgcolor\":\"white\",\"title\":{\"text\":\"OBF Visualisation\"},\"xaxis\":{\"gridcolor\":\"lightgray\",\"title\":{\"text\":\"hours\"}},\"yaxis\":{\"gridcolor\":\"lightgray\",\"title\":{\"text\":\"Values\"}},\"template\":{\"data\":{\"histogram2dcontour\":[{\"type\":\"histogram2dcontour\",\"colorbar\":{\"outlinewidth\":0,\"ticks\":\"\"},\"colorscale\":[[0.0,\"#0d0887\"],[0.1111111111111111,\"#46039f\"],[0.2222222222222222,\"#7201a8\"],[0.3333333333333333,\"#9c179e\"],[0.4444444444444444,\"#bd3786\"],[0.5555555555555556,\"#d8576b\"],[0.6666666666666666,\"#ed7953\"],[0.7777777777777778,\"#fb9f3a\"],[0.8888888888888888,\"#fdca26\"],[1.0,\"#f0f921\"]]}],\"choropleth\":[{\"type\":\"choropleth\",\"colorbar\":{\"outlinewidth\":0,\"ticks\":\"\"}}],\"histogram2d\":[{\"type\":\"histogram2d\",\"colorbar\":{\"outlinewidth\":0,\"ticks\":\"\"},\"colorscale\":[[0.0,\"#0d0887\"],[0.1111111111111111,\"#46039f\"],[0.2222222222222222,\"#7201a8\"],[0.3333333333333333,\"#9c179e\"],[0.4444444444444444,\"#bd3786\"],[0.5555555555555556,\"#d8576b\"],[0.6666666666666666,\"#ed7953\"],[0.7777777777777778,\"#fb9f3a\"],[0.8888888888888888,\"#fdca26\"],[1.0,\"#f0f921\"]]}],\"heatmap\":[{\"type\":\"heatmap\",\"colorbar\":{\"outlinewidth\":0,\"ticks\":\"\"},\"colorscale\":[[0.0,\"#0d0887\"],[0.1111111111111111,\"#46039f\"],[0.2222222222222222,\"#7201a8\"],[0.3333333333333333,\"#9c179e\"],[0.4444444444444444,\"#bd3786\"],[0.5555555555555556,\"#d8576b\"],[0.6666666666666666,\"#ed7953\"],[0.7777777777777778,\"#fb9f3a\"],[0.8888888888888888,\"#fdca26\"],[1.0,\"#f0f921\"]]}],\"heatmapgl\":[{\"type\":\"heatmapgl\",\"colorbar\":{\"outlinewidth\":0,\"ticks\":\"\"},\"colorscale\":[[0.0,\"#0d0887\"],[0.1111111111111111,\"#46039f\"],[0.2222222222222222,\"#7201a8\"],[0.3333333333333333,\"#9c179e\"],[0.4444444444444444,\"#bd3786\"],[0.5555555555555556,\"#d8576b\"],[0.6666666666666666,\"#ed7953\"],[0.7777777777777778,\"#fb9f3a\"],[0.8888888888888888,\"#fdca26\"],[1.0,\"#f0f921\"]]}],\"contourcarpet\":[{\"type\":\"contourcarpet\",\"colorbar\":{\"outlinewidth\":0,\"ticks\":\"\"}}],\"contour\":[{\"type\":\"contour\",\"colorbar\":{\"outlinewidth\":0,\"ticks\":\"\"},\"colorscale\":[[0.0,\"#0d0887\"],[0.1111111111111111,\"#46039f\"],[0.2222222222222222,\"#7201a8\"],[0.3333333333333333,\"#9c179e\"],[0.4444444444444444,\"#bd3786\"],[0.5555555555555556,\"#d8576b\"],[0.6666666666666666,\"#ed7953\"],[0.7777777777777778,\"#fb9f3a\"],[0.8888888888888888,\"#fdca26\"],[1.0,\"#f0f921\"]]}],\"surface\":[{\"type\":\"surface\",\"colorbar\":{\"outlinewidth\":0,\"ticks\":\"\"},\"colorscale\":[[0.0,\"#0d0887\"],[0.1111111111111111,\"#46039f\"],[0.2222222222222222,\"#7201a8\"],[0.3333333333333333,\"#9c179e\"],[0.4444444444444444,\"#bd3786\"],[0.5555555555555556,\"#d8576b\"],[0.6666666666666666,\"#ed7953\"],[0.7777777777777778,\"#fb9f3a\"],[0.8888888888888888,\"#fdca26\"],[1.0,\"#f0f921\"]]}],\"mesh3d\":[{\"type\":\"mesh3d\",\"colorbar\":{\"outlinewidth\":0,\"ticks\":\"\"}}],\"scatter\":[{\"fillpattern\":{\"fillmode\":\"overlay\",\"size\":10,\"solidity\":0.2},\"type\":\"scatter\"}],\"parcoords\":[{\"type\":\"parcoords\",\"line\":{\"colorbar\":{\"outlinewidth\":0,\"ticks\":\"\"}}}],\"scatterpolargl\":[{\"type\":\"scatterpolargl\",\"marker\":{\"colorbar\":{\"outlinewidth\":0,\"ticks\":\"\"}}}],\"bar\":[{\"error_x\":{\"color\":\"#2a3f5f\"},\"error_y\":{\"color\":\"#2a3f5f\"},\"marker\":{\"line\":{\"color\":\"#E5ECF6\",\"width\":0.5},\"pattern\":{\"fillmode\":\"overlay\",\"size\":10,\"solidity\":0.2}},\"type\":\"bar\"}],\"scattergeo\":[{\"type\":\"scattergeo\",\"marker\":{\"colorbar\":{\"outlinewidth\":0,\"ticks\":\"\"}}}],\"scatterpolar\":[{\"type\":\"scatterpolar\",\"marker\":{\"colorbar\":{\"outlinewidth\":0,\"ticks\":\"\"}}}],\"histogram\":[{\"marker\":{\"pattern\":{\"fillmode\":\"overlay\",\"size\":10,\"solidity\":0.2}},\"type\":\"histogram\"}],\"scattergl\":[{\"type\":\"scattergl\",\"marker\":{\"colorbar\":{\"outlinewidth\":0,\"ticks\":\"\"}}}],\"scatter3d\":[{\"type\":\"scatter3d\",\"line\":{\"colorbar\":{\"outlinewidth\":0,\"ticks\":\"\"}},\"marker\":{\"colorbar\":{\"outlinewidth\":0,\"ticks\":\"\"}}}],\"scattermapbox\":[{\"type\":\"scattermapbox\",\"marker\":{\"colorbar\":{\"outlinewidth\":0,\"ticks\":\"\"}}}],\"scatterternary\":[{\"type\":\"scatterternary\",\"marker\":{\"colorbar\":{\"outlinewidth\":0,\"ticks\":\"\"}}}],\"scattercarpet\":[{\"type\":\"scattercarpet\",\"marker\":{\"colorbar\":{\"outlinewidth\":0,\"ticks\":\"\"}}}],\"carpet\":[{\"aaxis\":{\"endlinecolor\":\"#2a3f5f\",\"gridcolor\":\"white\",\"linecolor\":\"white\",\"minorgridcolor\":\"white\",\"startlinecolor\":\"#2a3f5f\"},\"baxis\":{\"endlinecolor\":\"#2a3f5f\",\"gridcolor\":\"white\",\"linecolor\":\"white\",\"minorgridcolor\":\"white\",\"startlinecolor\":\"#2a3f5f\"},\"type\":\"carpet\"}],\"table\":[{\"cells\":{\"fill\":{\"color\":\"#EBF0F8\"},\"line\":{\"color\":\"white\"}},\"header\":{\"fill\":{\"color\":\"#C8D4E3\"},\"line\":{\"color\":\"white\"}},\"type\":\"table\"}],\"barpolar\":[{\"marker\":{\"line\":{\"color\":\"#E5ECF6\",\"width\":0.5},\"pattern\":{\"fillmode\":\"overlay\",\"size\":10,\"solidity\":0.2}},\"type\":\"barpolar\"}],\"pie\":[{\"automargin\":true,\"type\":\"pie\"}]},\"layout\":{\"autotypenumbers\":\"strict\",\"colorway\":[\"#636efa\",\"#EF553B\",\"#00cc96\",\"#ab63fa\",\"#FFA15A\",\"#19d3f3\",\"#FF6692\",\"#B6E880\",\"#FF97FF\",\"#FECB52\"],\"font\":{\"color\":\"#2a3f5f\"},\"hovermode\":\"closest\",\"hoverlabel\":{\"align\":\"left\"},\"paper_bgcolor\":\"white\",\"plot_bgcolor\":\"#E5ECF6\",\"polar\":{\"bgcolor\":\"#E5ECF6\",\"angularaxis\":{\"gridcolor\":\"white\",\"linecolor\":\"white\",\"ticks\":\"\"},\"radialaxis\":{\"gridcolor\":\"white\",\"linecolor\":\"white\",\"ticks\":\"\"}},\"ternary\":{\"bgcolor\":\"#E5ECF6\",\"aaxis\":{\"gridcolor\":\"white\",\"linecolor\":\"white\",\"ticks\":\"\"},\"baxis\":{\"gridcolor\":\"white\",\"linecolor\":\"white\",\"ticks\":\"\"},\"caxis\":{\"gridcolor\":\"white\",\"linecolor\":\"white\",\"ticks\":\"\"}},\"coloraxis\":{\"colorbar\":{\"outlinewidth\":0,\"ticks\":\"\"}},\"colorscale\":{\"sequential\":[[0.0,\"#0d0887\"],[0.1111111111111111,\"#46039f\"],[0.2222222222222222,\"#7201a8\"],[0.3333333333333333,\"#9c179e\"],[0.4444444444444444,\"#bd3786\"],[0.5555555555555556,\"#d8576b\"],[0.6666666666666666,\"#ed7953\"],[0.7777777777777778,\"#fb9f3a\"],[0.8888888888888888,\"#fdca26\"],[1.0,\"#f0f921\"]],\"sequentialminus\":[[0.0,\"#0d0887\"],[0.1111111111111111,\"#46039f\"],[0.2222222222222222,\"#7201a8\"],[0.3333333333333333,\"#9c179e\"],[0.4444444444444444,\"#bd3786\"],[0.5555555555555556,\"#d8576b\"],[0.6666666666666666,\"#ed7953\"],[0.7777777777777778,\"#fb9f3a\"],[0.8888888888888888,\"#fdca26\"],[1.0,\"#f0f921\"]],\"diverging\":[[0,\"#8e0152\"],[0.1,\"#c51b7d\"],[0.2,\"#de77ae\"],[0.3,\"#f1b6da\"],[0.4,\"#fde0ef\"],[0.5,\"#f7f7f7\"],[0.6,\"#e6f5d0\"],[0.7,\"#b8e186\"],[0.8,\"#7fbc41\"],[0.9,\"#4d9221\"],[1,\"#276419\"]]},\"xaxis\":{\"gridcolor\":\"white\",\"linecolor\":\"white\",\"ticks\":\"\",\"title\":{\"standoff\":15},\"zerolinecolor\":\"white\",\"automargin\":true,\"zerolinewidth\":2},\"yaxis\":{\"gridcolor\":\"white\",\"linecolor\":\"white\",\"ticks\":\"\",\"title\":{\"standoff\":15},\"zerolinecolor\":\"white\",\"automargin\":true,\"zerolinewidth\":2},\"scene\":{\"xaxis\":{\"backgroundcolor\":\"#E5ECF6\",\"gridcolor\":\"white\",\"linecolor\":\"white\",\"showbackground\":true,\"ticks\":\"\",\"zerolinecolor\":\"white\",\"gridwidth\":2},\"yaxis\":{\"backgroundcolor\":\"#E5ECF6\",\"gridcolor\":\"white\",\"linecolor\":\"white\",\"showbackground\":true,\"ticks\":\"\",\"zerolinecolor\":\"white\",\"gridwidth\":2},\"zaxis\":{\"backgroundcolor\":\"#E5ECF6\",\"gridcolor\":\"white\",\"linecolor\":\"white\",\"showbackground\":true,\"ticks\":\"\",\"zerolinecolor\":\"white\",\"gridwidth\":2}},\"shapedefaults\":{\"line\":{\"color\":\"#2a3f5f\"}},\"annotationdefaults\":{\"arrowcolor\":\"#2a3f5f\",\"arrowhead\":0,\"arrowwidth\":1},\"geo\":{\"bgcolor\":\"white\",\"landcolor\":\"#E5ECF6\",\"subunitcolor\":\"white\",\"showland\":true,\"showlakes\":true,\"lakecolor\":\"white\"},\"title\":{\"x\":0.05},\"mapbox\":{\"style\":\"light\"}}}},                        {\"responsive\": true}                    ).then(function(){\n                            \nvar gd = document.getElementById('a4f65704-e8d1-4890-8db2-0f2c5dccf51e');\nvar x = new MutationObserver(function (mutations, observer) {{\n        var display = window.getComputedStyle(gd).display;\n        if (!display || display === 'none') {{\n            console.log([gd, 'removed!']);\n            Plotly.purge(gd);\n            observer.disconnect();\n        }}\n}});\n\n// Listen for the removal of the full notebook cells\nvar notebookContainer = gd.closest('#notebook-container');\nif (notebookContainer) {{\n    x.observe(notebookContainer, {childList: true});\n}}\n\n// Listen for the clearing of the current output cell\nvar outputEl = gd.closest('.output');\nif (outputEl) {{\n    x.observe(outputEl, {childList: true});\n}}\n\n                        })                };                });            </script>        </div>"
     },
     "metadata": {},
     "output_type": "display_data"
    }
   ],
   "source": [
    "OBF_tester.visualize(results)"
   ],
   "metadata": {
    "collapsed": false
   }
  },
  {
   "cell_type": "code",
   "execution_count": null,
   "outputs": [],
   "source": [],
   "metadata": {
    "collapsed": false
   }
  },
  {
   "cell_type": "code",
   "execution_count": null,
   "outputs": [],
   "source": [],
   "metadata": {
    "collapsed": false
   }
  }
 ],
 "metadata": {
  "kernelspec": {
   "display_name": "Python 3",
   "language": "python",
   "name": "python3"
  },
  "language_info": {
   "codemirror_mode": {
    "name": "ipython",
    "version": 2
   },
   "file_extension": ".py",
   "mimetype": "text/x-python",
   "name": "python",
   "nbconvert_exporter": "python",
   "pygments_lexer": "ipython2",
   "version": "2.7.6"
  }
 },
 "nbformat": 4,
 "nbformat_minor": 0
}
